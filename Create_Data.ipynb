{
  "nbformat": 4,
  "nbformat_minor": 0,
  "metadata": {
    "colab": {
      "name": "Create Data.ipynb",
      "provenance": [],
      "authorship_tag": "ABX9TyPu9MyYNM9MP7jo9mGTujKN",
      "include_colab_link": true
    },
    "kernelspec": {
      "name": "python3",
      "display_name": "Python 3"
    },
    "language_info": {
      "name": "python"
    },
    "widgets": {
      "application/vnd.jupyter.widget-state+json": {
        "c4b3451275a14e95a6f87f17e4150e28": {
          "model_module": "@jupyter-widgets/controls",
          "model_name": "HBoxModel",
          "model_module_version": "1.5.0",
          "state": {
            "_dom_classes": [],
            "_model_module": "@jupyter-widgets/controls",
            "_model_module_version": "1.5.0",
            "_model_name": "HBoxModel",
            "_view_count": null,
            "_view_module": "@jupyter-widgets/controls",
            "_view_module_version": "1.5.0",
            "_view_name": "HBoxView",
            "box_style": "",
            "children": [
              "IPY_MODEL_91b65235566842a791e666627a60420b",
              "IPY_MODEL_0bb4ea900e184314baf1d89a60141a6d",
              "IPY_MODEL_aedace5d26c74da49bffc28e866d876f"
            ],
            "layout": "IPY_MODEL_b61f97a8892f4a2a9620ea7f272290c8"
          }
        },
        "91b65235566842a791e666627a60420b": {
          "model_module": "@jupyter-widgets/controls",
          "model_name": "HTMLModel",
          "model_module_version": "1.5.0",
          "state": {
            "_dom_classes": [],
            "_model_module": "@jupyter-widgets/controls",
            "_model_module_version": "1.5.0",
            "_model_name": "HTMLModel",
            "_view_count": null,
            "_view_module": "@jupyter-widgets/controls",
            "_view_module_version": "1.5.0",
            "_view_name": "HTMLView",
            "description": "",
            "description_tooltip": null,
            "layout": "IPY_MODEL_19f7af905f834a3a8005df448dba1265",
            "placeholder": "​",
            "style": "IPY_MODEL_0091024cb742409dbb7ada091ea4431c",
            "value": " 25%"
          }
        },
        "0bb4ea900e184314baf1d89a60141a6d": {
          "model_module": "@jupyter-widgets/controls",
          "model_name": "FloatProgressModel",
          "model_module_version": "1.5.0",
          "state": {
            "_dom_classes": [],
            "_model_module": "@jupyter-widgets/controls",
            "_model_module_version": "1.5.0",
            "_model_name": "FloatProgressModel",
            "_view_count": null,
            "_view_module": "@jupyter-widgets/controls",
            "_view_module_version": "1.5.0",
            "_view_name": "ProgressView",
            "bar_style": "",
            "description": "",
            "description_tooltip": null,
            "layout": "IPY_MODEL_0be12b5f92bf4a64bfce2650949b5f86",
            "max": 71,
            "min": 0,
            "orientation": "horizontal",
            "style": "IPY_MODEL_504ebe95535244809a17e008110c1694",
            "value": 18
          }
        },
        "aedace5d26c74da49bffc28e866d876f": {
          "model_module": "@jupyter-widgets/controls",
          "model_name": "HTMLModel",
          "model_module_version": "1.5.0",
          "state": {
            "_dom_classes": [],
            "_model_module": "@jupyter-widgets/controls",
            "_model_module_version": "1.5.0",
            "_model_name": "HTMLModel",
            "_view_count": null,
            "_view_module": "@jupyter-widgets/controls",
            "_view_module_version": "1.5.0",
            "_view_name": "HTMLView",
            "description": "",
            "description_tooltip": null,
            "layout": "IPY_MODEL_9cb1b19fe71d47e19202e611a5f90107",
            "placeholder": "​",
            "style": "IPY_MODEL_5c5901a53449468ca8c01bbf6cda97ac",
            "value": " 18/71 [03:25&lt;10:38, 12.05s/it]"
          }
        },
        "b61f97a8892f4a2a9620ea7f272290c8": {
          "model_module": "@jupyter-widgets/base",
          "model_name": "LayoutModel",
          "model_module_version": "1.2.0",
          "state": {
            "_model_module": "@jupyter-widgets/base",
            "_model_module_version": "1.2.0",
            "_model_name": "LayoutModel",
            "_view_count": null,
            "_view_module": "@jupyter-widgets/base",
            "_view_module_version": "1.2.0",
            "_view_name": "LayoutView",
            "align_content": null,
            "align_items": null,
            "align_self": null,
            "border": null,
            "bottom": null,
            "display": null,
            "flex": null,
            "flex_flow": null,
            "grid_area": null,
            "grid_auto_columns": null,
            "grid_auto_flow": null,
            "grid_auto_rows": null,
            "grid_column": null,
            "grid_gap": null,
            "grid_row": null,
            "grid_template_areas": null,
            "grid_template_columns": null,
            "grid_template_rows": null,
            "height": null,
            "justify_content": null,
            "justify_items": null,
            "left": null,
            "margin": null,
            "max_height": null,
            "max_width": null,
            "min_height": null,
            "min_width": null,
            "object_fit": null,
            "object_position": null,
            "order": null,
            "overflow": null,
            "overflow_x": null,
            "overflow_y": null,
            "padding": null,
            "right": null,
            "top": null,
            "visibility": null,
            "width": null
          }
        },
        "19f7af905f834a3a8005df448dba1265": {
          "model_module": "@jupyter-widgets/base",
          "model_name": "LayoutModel",
          "model_module_version": "1.2.0",
          "state": {
            "_model_module": "@jupyter-widgets/base",
            "_model_module_version": "1.2.0",
            "_model_name": "LayoutModel",
            "_view_count": null,
            "_view_module": "@jupyter-widgets/base",
            "_view_module_version": "1.2.0",
            "_view_name": "LayoutView",
            "align_content": null,
            "align_items": null,
            "align_self": null,
            "border": null,
            "bottom": null,
            "display": null,
            "flex": null,
            "flex_flow": null,
            "grid_area": null,
            "grid_auto_columns": null,
            "grid_auto_flow": null,
            "grid_auto_rows": null,
            "grid_column": null,
            "grid_gap": null,
            "grid_row": null,
            "grid_template_areas": null,
            "grid_template_columns": null,
            "grid_template_rows": null,
            "height": null,
            "justify_content": null,
            "justify_items": null,
            "left": null,
            "margin": null,
            "max_height": null,
            "max_width": null,
            "min_height": null,
            "min_width": null,
            "object_fit": null,
            "object_position": null,
            "order": null,
            "overflow": null,
            "overflow_x": null,
            "overflow_y": null,
            "padding": null,
            "right": null,
            "top": null,
            "visibility": null,
            "width": null
          }
        },
        "0091024cb742409dbb7ada091ea4431c": {
          "model_module": "@jupyter-widgets/controls",
          "model_name": "DescriptionStyleModel",
          "model_module_version": "1.5.0",
          "state": {
            "_model_module": "@jupyter-widgets/controls",
            "_model_module_version": "1.5.0",
            "_model_name": "DescriptionStyleModel",
            "_view_count": null,
            "_view_module": "@jupyter-widgets/base",
            "_view_module_version": "1.2.0",
            "_view_name": "StyleView",
            "description_width": ""
          }
        },
        "0be12b5f92bf4a64bfce2650949b5f86": {
          "model_module": "@jupyter-widgets/base",
          "model_name": "LayoutModel",
          "model_module_version": "1.2.0",
          "state": {
            "_model_module": "@jupyter-widgets/base",
            "_model_module_version": "1.2.0",
            "_model_name": "LayoutModel",
            "_view_count": null,
            "_view_module": "@jupyter-widgets/base",
            "_view_module_version": "1.2.0",
            "_view_name": "LayoutView",
            "align_content": null,
            "align_items": null,
            "align_self": null,
            "border": null,
            "bottom": null,
            "display": null,
            "flex": null,
            "flex_flow": null,
            "grid_area": null,
            "grid_auto_columns": null,
            "grid_auto_flow": null,
            "grid_auto_rows": null,
            "grid_column": null,
            "grid_gap": null,
            "grid_row": null,
            "grid_template_areas": null,
            "grid_template_columns": null,
            "grid_template_rows": null,
            "height": null,
            "justify_content": null,
            "justify_items": null,
            "left": null,
            "margin": null,
            "max_height": null,
            "max_width": null,
            "min_height": null,
            "min_width": null,
            "object_fit": null,
            "object_position": null,
            "order": null,
            "overflow": null,
            "overflow_x": null,
            "overflow_y": null,
            "padding": null,
            "right": null,
            "top": null,
            "visibility": null,
            "width": null
          }
        },
        "504ebe95535244809a17e008110c1694": {
          "model_module": "@jupyter-widgets/controls",
          "model_name": "ProgressStyleModel",
          "model_module_version": "1.5.0",
          "state": {
            "_model_module": "@jupyter-widgets/controls",
            "_model_module_version": "1.5.0",
            "_model_name": "ProgressStyleModel",
            "_view_count": null,
            "_view_module": "@jupyter-widgets/base",
            "_view_module_version": "1.2.0",
            "_view_name": "StyleView",
            "bar_color": null,
            "description_width": ""
          }
        },
        "9cb1b19fe71d47e19202e611a5f90107": {
          "model_module": "@jupyter-widgets/base",
          "model_name": "LayoutModel",
          "model_module_version": "1.2.0",
          "state": {
            "_model_module": "@jupyter-widgets/base",
            "_model_module_version": "1.2.0",
            "_model_name": "LayoutModel",
            "_view_count": null,
            "_view_module": "@jupyter-widgets/base",
            "_view_module_version": "1.2.0",
            "_view_name": "LayoutView",
            "align_content": null,
            "align_items": null,
            "align_self": null,
            "border": null,
            "bottom": null,
            "display": null,
            "flex": null,
            "flex_flow": null,
            "grid_area": null,
            "grid_auto_columns": null,
            "grid_auto_flow": null,
            "grid_auto_rows": null,
            "grid_column": null,
            "grid_gap": null,
            "grid_row": null,
            "grid_template_areas": null,
            "grid_template_columns": null,
            "grid_template_rows": null,
            "height": null,
            "justify_content": null,
            "justify_items": null,
            "left": null,
            "margin": null,
            "max_height": null,
            "max_width": null,
            "min_height": null,
            "min_width": null,
            "object_fit": null,
            "object_position": null,
            "order": null,
            "overflow": null,
            "overflow_x": null,
            "overflow_y": null,
            "padding": null,
            "right": null,
            "top": null,
            "visibility": null,
            "width": null
          }
        },
        "5c5901a53449468ca8c01bbf6cda97ac": {
          "model_module": "@jupyter-widgets/controls",
          "model_name": "DescriptionStyleModel",
          "model_module_version": "1.5.0",
          "state": {
            "_model_module": "@jupyter-widgets/controls",
            "_model_module_version": "1.5.0",
            "_model_name": "DescriptionStyleModel",
            "_view_count": null,
            "_view_module": "@jupyter-widgets/base",
            "_view_module_version": "1.2.0",
            "_view_name": "StyleView",
            "description_width": ""
          }
        }
      }
    }
  },
  "cells": [
    {
      "cell_type": "markdown",
      "metadata": {
        "id": "view-in-github",
        "colab_type": "text"
      },
      "source": [
        "<a href=\"https://colab.research.google.com/github/QasimKhan5x/Crop-Type-Mapping/blob/main/Create_Data.ipynb\" target=\"_parent\"><img src=\"https://colab.research.google.com/assets/colab-badge.svg\" alt=\"Open In Colab\"/></a>"
      ]
    },
    {
      "cell_type": "code",
      "source": [
        "from google.colab import drive\n",
        "drive.mount('/content/drive')"
      ],
      "metadata": {
        "colab": {
          "base_uri": "https://localhost:8080/"
        },
        "id": "NKtVe09Ospi6",
        "outputId": "1578ae11-6c6c-4a2c-8719-18968c003274"
      },
      "execution_count": 1,
      "outputs": [
        {
          "output_type": "stream",
          "name": "stdout",
          "text": [
            "Mounted at /content/drive\n"
          ]
        }
      ]
    },
    {
      "cell_type": "code",
      "source": [
        "%%shell\n",
        "sudo add-apt-repository ppa:ubuntugis/ppa\n",
        "sudo apt-get update\n",
        "sudo apt-get install python-numpy gdal-bin libgdal-dev\n",
        "pip install rasterio geopandas"
      ],
      "metadata": {
        "id": "riWbxdhxsydU"
      },
      "execution_count": null,
      "outputs": []
    },
    {
      "cell_type": "code",
      "source": [
        "import os\n",
        "import glob\n",
        "from pathlib import Path\n",
        "from pprint import pprint\n",
        "\n",
        "import rasterio as rio\n",
        "from tqdm.notebook import tqdm\n",
        "import numpy as np\n",
        "from scipy import ndimage \n",
        "import geopandas as gpd\n",
        "from osgeo import gdal_array\n",
        "from matplotlib import pyplot as plt\n",
        "from rasterio.plot import show, show_hist"
      ],
      "metadata": {
        "id": "mp7e5G7Ds7rZ"
      },
      "execution_count": 95,
      "outputs": []
    },
    {
      "cell_type": "code",
      "source": [
        "grid_aoi = gpd.read_file('/content/drive/MyDrive/VarunaHackathon2022/Grid_AOI/AOI.shp')\n",
        "train_aoi = gpd.read_file('/content/drive/MyDrive/VarunaHackathon2022/training_area/traindata.shp')\n",
        "test_aoi = gpd.read_file('/content/drive/MyDrive/VarunaHackathon2022/testing_area/testdata.shp')"
      ],
      "metadata": {
        "id": "KdmKjpTbtB3N"
      },
      "execution_count": 4,
      "outputs": []
    },
    {
      "cell_type": "code",
      "source": [
        "f2020 = '/content/drive/MyDrive/VarunaHackathon2022/sentinel-2-image/2020'\n",
        "f2021 = '/content/drive/MyDrive/VarunaHackathon2022/sentinel-2-image/2021'"
      ],
      "metadata": {
        "id": "qHfX1FfPtTeF"
      },
      "execution_count": 5,
      "outputs": []
    },
    {
      "cell_type": "code",
      "source": [
        "print(len(os.listdir(f2020)))\n",
        "print(len(os.listdir(f2021)))"
      ],
      "metadata": {
        "colab": {
          "base_uri": "https://localhost:8080/"
        },
        "id": "4S4Zi4RNtgMZ",
        "outputId": "4ff0c885-8cd3-4ebd-bd5a-b87ebf97808b"
      },
      "execution_count": 7,
      "outputs": [
        {
          "output_type": "stream",
          "name": "stdout",
          "text": [
            "71\n",
            "71\n"
          ]
        }
      ]
    },
    {
      "cell_type": "code",
      "source": [
        "def resample_3d(\n",
        "        stack,\n",
        "        row10m,\n",
        "        col10m,\n",
        "        rate):\n",
        "    row, col, bands = stack.shape\n",
        "    # print(\"Array shape (%d,%d,%d)\" % (row, col, bands))\n",
        "    stack_10m = np.zeros((row10m, col10m, bands),dtype=np.uint16)\n",
        "    # print(\"Resize array bands from (%d,%d,%d) to (%d,%d,%d)\" % (\n",
        "        # row, col, bands, row10m, col10m, bands))\n",
        "    for i in range(bands):\n",
        "        zoomed_arr = ndimage.zoom(stack[:, :, i], rate)\n",
        "        if zoomed_arr.shape[0] > row10m:\n",
        "            # reduce by 1 row and 1 column\n",
        "            zoomed_arr = zoomed_arr[:-1, :-1]\n",
        "        elif zoomed_arr.shape[0] < row10m:\n",
        "            # pad by 1 row and 1 column\n",
        "            zoomed_arr = np.pad(zoomed_arr, 1, mode='edge')[1:, 1:]\n",
        "        stack_10m[:, :, i] = zoomed_arr\n",
        "    del stack\n",
        "    return stack_10m"
      ],
      "metadata": {
        "id": "UT5IuGmx4vR7"
      },
      "execution_count": 91,
      "outputs": []
    },
    {
      "cell_type": "code",
      "source": [
        "def read_bands(img_data):\n",
        "    jp2_imgs = '*.jp2'\n",
        "    path = os.path.join(img_data, jp2_imgs)\n",
        "    files = glob.glob(path)\n",
        "    required_bands = ['B8A'] + [f'B0{i}' for i in range(2,9)] + ['B11', 'B12']\n",
        "    required_bands.sort()\n",
        "    req_files = [file for file in files if file[-7:-4] in required_bands]\n",
        "    # 10m resolution bands\n",
        "    tenM = ['02', '03', '04', '08']\n",
        "    # 10M shape is (2051, 2051)\n",
        "    bands = np.zeros((2051, 2051, 10))\n",
        "    for i, file in enumerate(req_files):\n",
        "        arr = rio.open(file).read()\n",
        "        # print(f'B{file[-6:-4]}', arr.shape)\n",
        "        if file[-6:-4] in tenM:\n",
        "            bands[:, :, i] = arr.squeeze()\n",
        "        else:\n",
        "            arr = np.transpose(arr, (1, 2, 0))\n",
        "            bands[:, :, i] = resample_3d(arr, 2051, 2051, 2).squeeze()\n",
        "    return bands"
      ],
      "metadata": {
        "id": "AqbybHSj01Ih"
      },
      "execution_count": 92,
      "outputs": []
    },
    {
      "cell_type": "code",
      "source": [
        "path = '/content/drive/MyDrive/VarunaHackathon2022/sentinel-2-image/2020/20200102/IMG_DATA'\n",
        "bands = read_bands(path)"
      ],
      "metadata": {
        "id": "DnwLm5sL6s3J"
      },
      "execution_count": 93,
      "outputs": []
    },
    {
      "cell_type": "code",
      "source": [
        "def store_images(year_folder):\n",
        "    '''\n",
        "    Return an array of size\n",
        "    71 x H X W x 10\n",
        "    '''\n",
        "    all_images = []\n",
        "    for i, timeframe in enumerate(tqdm(os.listdir(year_folder))):\n",
        "        img_data_folder = os.path.join(year_folder, timeframe, 'IMG_DATA')\n",
        "        bands = read_bands(img_data_folder) \n",
        "        all_images.append(bands)\n",
        "    return np.asarray(all_images)"
      ],
      "metadata": {
        "id": "GTEgI9T3t0Zo"
      },
      "execution_count": 96,
      "outputs": []
    },
    {
      "cell_type": "code",
      "source": [
        "year_2020_folder = '/content/drive/MyDrive/VarunaHackathon2022/sentinel-2-image/2020'\n",
        "images_2020 = store_images(year_2020_folder)"
      ],
      "metadata": {
        "colab": {
          "base_uri": "https://localhost:8080/",
          "height": 49,
          "referenced_widgets": [
            "c4b3451275a14e95a6f87f17e4150e28",
            "91b65235566842a791e666627a60420b",
            "0bb4ea900e184314baf1d89a60141a6d",
            "aedace5d26c74da49bffc28e866d876f",
            "b61f97a8892f4a2a9620ea7f272290c8",
            "19f7af905f834a3a8005df448dba1265",
            "0091024cb742409dbb7ada091ea4431c",
            "0be12b5f92bf4a64bfce2650949b5f86",
            "504ebe95535244809a17e008110c1694",
            "9cb1b19fe71d47e19202e611a5f90107",
            "5c5901a53449468ca8c01bbf6cda97ac"
          ]
        },
        "id": "zkKvrOOUBCP_",
        "outputId": "5828f6a1-e2d4-4041-eaf5-12e7cdc9894b"
      },
      "execution_count": null,
      "outputs": [
        {
          "output_type": "display_data",
          "data": {
            "text/plain": [
              "  0%|          | 0/71 [00:00<?, ?it/s]"
            ],
            "application/vnd.jupyter.widget-view+json": {
              "version_major": 2,
              "version_minor": 0,
              "model_id": "c4b3451275a14e95a6f87f17e4150e28"
            }
          },
          "metadata": {}
        }
      ]
    },
    {
      "cell_type": "code",
      "source": [
        ""
      ],
      "metadata": {
        "id": "XnWmHkKwBDx7"
      },
      "execution_count": null,
      "outputs": []
    }
  ]
}