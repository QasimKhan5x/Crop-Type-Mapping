{
  "nbformat": 4,
  "nbformat_minor": 0,
  "metadata": {
    "colab": {
      "name": "Submission.ipynb",
      "provenance": [],
      "include_colab_link": true
    },
    "kernelspec": {
      "name": "python3",
      "display_name": "Python 3"
    },
    "language_info": {
      "name": "python"
    },
    "gpuClass": "standard",
    "accelerator": "GPU"
  },
  "cells": [
    {
      "cell_type": "markdown",
      "metadata": {
        "id": "view-in-github",
        "colab_type": "text"
      },
      "source": [
        "<a href=\"https://colab.research.google.com/github/QasimKhan5x/Crop-Type-Mapping/blob/main/Submission.ipynb\" target=\"_parent\"><img src=\"https://colab.research.google.com/assets/colab-badge.svg\" alt=\"Open In Colab\"/></a>"
      ]
    },
    {
      "cell_type": "code",
      "execution_count": null,
      "metadata": {
        "id": "d-1Ds0HyT-m8"
      },
      "outputs": [],
      "source": [
        "idx2label = {\n",
        "    1: \"cassava\",\n",
        "    2: \"rice\",\n",
        "    3: \"maize\", \n",
        "    4: \"sugarcane\"\n",
        "}"
      ]
    },
    {
      "cell_type": "code",
      "source": [
        "import pandas as pd \n",
        "import numpy as np \n",
        "\n",
        "from sklearn.preprocessing import MinMaxScaler, MaxAbsScaler\n",
        "from sklearn.metrics import roc_curve, roc_auc_score\n",
        "import matplotlib.pyplot as plt\n",
        "\n",
        "from xgboost import XGBClassifier\n",
        "from sklearn.model_selection import KFold\n",
        "from sklearn.model_selection import cross_val_score\n",
        "from numpy import mean\n",
        "from numpy import std"
      ],
      "metadata": {
        "id": "kjHsnILDWeoR"
      },
      "execution_count": null,
      "outputs": []
    },
    {
      "cell_type": "code",
      "source": [
        "final_path = '/content/drive/MyDrive/VarunaOutput/final.parquet'\n",
        "ndvi_path = '/content/drive/MyDrive/VarunaOutput/ndvi.parquet'"
      ],
      "metadata": {
        "id": "JmoYGFjoWpYC"
      },
      "execution_count": null,
      "outputs": []
    },
    {
      "cell_type": "code",
      "source": [
        "ndvi_ds = pd.read_parquet(ndvi_path)\n",
        "# ndvi_ds.head()"
      ],
      "metadata": {
        "id": "siOWXE4KWzCw"
      },
      "execution_count": null,
      "outputs": []
    },
    {
      "cell_type": "code",
      "source": [
        "ndvi_ds[\"class\"].replace({\"cassava\": 1, \"rice\": 2, \"maize\" : 3, \"sugarcane\": 4}, inplace=True)\n",
        "ndvi_ds"
      ],
      "metadata": {
        "colab": {
          "base_uri": "https://localhost:8080/",
          "height": 488
        },
        "id": "bbYorPfQrmKl",
        "outputId": "d39dd0b6-4048-4773-ebe5-ffe4b18a5544"
      },
      "execution_count": null,
      "outputs": [
        {
          "output_type": "execute_result",
          "data": {
            "text/plain": [
              "        20211222_B02  20211222_B03  20211222_B04  20211222_B05  20211222_B06  \\\n",
              "0             1120.0        1531.0        2076.0        3261.0        3864.0   \n",
              "1             1138.0        1535.0        2035.0        3280.0        3896.0   \n",
              "2             1183.0        1567.0        2130.0        3195.0        3822.0   \n",
              "3             1235.0        1618.0        2179.0        2966.0        3572.0   \n",
              "4              883.0        1430.0        1887.0        2586.0        3108.0   \n",
              "...              ...           ...           ...           ...           ...   \n",
              "236877         579.0         798.0        1047.0        1517.0        2082.0   \n",
              "236878         566.0         887.0         948.0        1564.0        2975.0   \n",
              "236879         560.0         860.0         979.0        1542.0        2836.0   \n",
              "236880         543.0         793.0         901.0        1522.0        2696.0   \n",
              "236881         525.0         768.0         975.0        1535.0        2476.0   \n",
              "\n",
              "        20211222_B07  20211222_B08  20211222_B8A  20211222_B11  20211222_B12  \\\n",
              "0             3578.0        3650.0        4470.0        4794.0        3255.0   \n",
              "1             3601.0        3540.0        4507.0        4797.0        3290.0   \n",
              "2             3539.0        3619.0        4391.0        4720.0        3247.0   \n",
              "3             3351.0        3601.0        4050.0        4465.0        3075.0   \n",
              "4             3009.0        3090.0        3460.0        3891.0        2731.0   \n",
              "...              ...           ...           ...           ...           ...   \n",
              "236877        1900.0        2222.0        2345.0        2386.0        1934.0   \n",
              "236878        2620.0        3115.0        3284.0        2712.0        1916.0   \n",
              "236879        2501.0        2814.0        3099.0        2671.0        1875.0   \n",
              "236880        2341.0        2738.0        2893.0        2596.0        1815.0   \n",
              "236881        2148.0        2488.0        2687.0        2503.0        1846.0   \n",
              "\n",
              "        ...  20210401_ndvi  20210215_ndvi  20210106_ndvi  20210101_ndvi  \\\n",
              "0       ...       0.121763       0.204620       0.676617       0.646046   \n",
              "1       ...       0.103303       0.167710       0.640164       0.590972   \n",
              "2       ...       0.103567       0.160319       0.630704       0.605846   \n",
              "3       ...       0.108158       0.185471       0.610289       0.607209   \n",
              "4       ...       0.116254       0.151584       0.572848       0.514308   \n",
              "...     ...            ...            ...            ...            ...   \n",
              "236877  ...       0.217877       0.184917       0.387891       0.334233   \n",
              "236878  ...       0.210669       0.253482       0.627102       0.563694   \n",
              "236879  ...       0.206102       0.189584       0.548940       0.480419   \n",
              "236880  ...       0.224883       0.195487       0.570929       0.537437   \n",
              "236881  ...       0.239258       0.219444       0.498737       0.468022   \n",
              "\n",
              "        20210205_ndvi  20210121_ndvi  20210111_ndvi  20210116_ndvi  \\\n",
              "0            0.514675       0.349708       0.566370       0.574984   \n",
              "1            0.467104       0.333202       0.516144       0.525618   \n",
              "2            0.461133       0.321621       0.537868       0.508400   \n",
              "3            0.449466       0.318636       0.533226       0.525923   \n",
              "4            0.427858       0.296121       0.443293       0.426191   \n",
              "...               ...            ...            ...            ...   \n",
              "236877       0.324266       0.368641       0.316932       0.376947   \n",
              "236878       0.442593       0.542278       0.480606       0.562367   \n",
              "236879       0.372256       0.519492       0.415214       0.525096   \n",
              "236880       0.445663       0.494756       0.437424       0.524247   \n",
              "236881       0.407846       0.454254       0.353588       0.443636   \n",
              "\n",
              "        20210126_ndvi  20210210_ndvi  \n",
              "0            0.551004       0.016251  \n",
              "1            0.525228       0.022734  \n",
              "2            0.506081       0.021187  \n",
              "3            0.499668       0.027606  \n",
              "4            0.465427       0.025349  \n",
              "...               ...            ...  \n",
              "236877       0.391092       0.138523  \n",
              "236878       0.516373       0.278116  \n",
              "236879       0.461217       0.238712  \n",
              "236880       0.475580       0.253440  \n",
              "236881       0.437156       0.259399  \n",
              "\n",
              "[236882 rows x 782 columns]"
            ],
            "text/html": [
              "\n",
              "  <div id=\"df-224dd4c9-a744-4f61-abb9-84caecc882d4\">\n",
              "    <div class=\"colab-df-container\">\n",
              "      <div>\n",
              "<style scoped>\n",
              "    .dataframe tbody tr th:only-of-type {\n",
              "        vertical-align: middle;\n",
              "    }\n",
              "\n",
              "    .dataframe tbody tr th {\n",
              "        vertical-align: top;\n",
              "    }\n",
              "\n",
              "    .dataframe thead th {\n",
              "        text-align: right;\n",
              "    }\n",
              "</style>\n",
              "<table border=\"1\" class=\"dataframe\">\n",
              "  <thead>\n",
              "    <tr style=\"text-align: right;\">\n",
              "      <th></th>\n",
              "      <th>20211222_B02</th>\n",
              "      <th>20211222_B03</th>\n",
              "      <th>20211222_B04</th>\n",
              "      <th>20211222_B05</th>\n",
              "      <th>20211222_B06</th>\n",
              "      <th>20211222_B07</th>\n",
              "      <th>20211222_B08</th>\n",
              "      <th>20211222_B8A</th>\n",
              "      <th>20211222_B11</th>\n",
              "      <th>20211222_B12</th>\n",
              "      <th>...</th>\n",
              "      <th>20210401_ndvi</th>\n",
              "      <th>20210215_ndvi</th>\n",
              "      <th>20210106_ndvi</th>\n",
              "      <th>20210101_ndvi</th>\n",
              "      <th>20210205_ndvi</th>\n",
              "      <th>20210121_ndvi</th>\n",
              "      <th>20210111_ndvi</th>\n",
              "      <th>20210116_ndvi</th>\n",
              "      <th>20210126_ndvi</th>\n",
              "      <th>20210210_ndvi</th>\n",
              "    </tr>\n",
              "  </thead>\n",
              "  <tbody>\n",
              "    <tr>\n",
              "      <th>0</th>\n",
              "      <td>1120.0</td>\n",
              "      <td>1531.0</td>\n",
              "      <td>2076.0</td>\n",
              "      <td>3261.0</td>\n",
              "      <td>3864.0</td>\n",
              "      <td>3578.0</td>\n",
              "      <td>3650.0</td>\n",
              "      <td>4470.0</td>\n",
              "      <td>4794.0</td>\n",
              "      <td>3255.0</td>\n",
              "      <td>...</td>\n",
              "      <td>0.121763</td>\n",
              "      <td>0.204620</td>\n",
              "      <td>0.676617</td>\n",
              "      <td>0.646046</td>\n",
              "      <td>0.514675</td>\n",
              "      <td>0.349708</td>\n",
              "      <td>0.566370</td>\n",
              "      <td>0.574984</td>\n",
              "      <td>0.551004</td>\n",
              "      <td>0.016251</td>\n",
              "    </tr>\n",
              "    <tr>\n",
              "      <th>1</th>\n",
              "      <td>1138.0</td>\n",
              "      <td>1535.0</td>\n",
              "      <td>2035.0</td>\n",
              "      <td>3280.0</td>\n",
              "      <td>3896.0</td>\n",
              "      <td>3601.0</td>\n",
              "      <td>3540.0</td>\n",
              "      <td>4507.0</td>\n",
              "      <td>4797.0</td>\n",
              "      <td>3290.0</td>\n",
              "      <td>...</td>\n",
              "      <td>0.103303</td>\n",
              "      <td>0.167710</td>\n",
              "      <td>0.640164</td>\n",
              "      <td>0.590972</td>\n",
              "      <td>0.467104</td>\n",
              "      <td>0.333202</td>\n",
              "      <td>0.516144</td>\n",
              "      <td>0.525618</td>\n",
              "      <td>0.525228</td>\n",
              "      <td>0.022734</td>\n",
              "    </tr>\n",
              "    <tr>\n",
              "      <th>2</th>\n",
              "      <td>1183.0</td>\n",
              "      <td>1567.0</td>\n",
              "      <td>2130.0</td>\n",
              "      <td>3195.0</td>\n",
              "      <td>3822.0</td>\n",
              "      <td>3539.0</td>\n",
              "      <td>3619.0</td>\n",
              "      <td>4391.0</td>\n",
              "      <td>4720.0</td>\n",
              "      <td>3247.0</td>\n",
              "      <td>...</td>\n",
              "      <td>0.103567</td>\n",
              "      <td>0.160319</td>\n",
              "      <td>0.630704</td>\n",
              "      <td>0.605846</td>\n",
              "      <td>0.461133</td>\n",
              "      <td>0.321621</td>\n",
              "      <td>0.537868</td>\n",
              "      <td>0.508400</td>\n",
              "      <td>0.506081</td>\n",
              "      <td>0.021187</td>\n",
              "    </tr>\n",
              "    <tr>\n",
              "      <th>3</th>\n",
              "      <td>1235.0</td>\n",
              "      <td>1618.0</td>\n",
              "      <td>2179.0</td>\n",
              "      <td>2966.0</td>\n",
              "      <td>3572.0</td>\n",
              "      <td>3351.0</td>\n",
              "      <td>3601.0</td>\n",
              "      <td>4050.0</td>\n",
              "      <td>4465.0</td>\n",
              "      <td>3075.0</td>\n",
              "      <td>...</td>\n",
              "      <td>0.108158</td>\n",
              "      <td>0.185471</td>\n",
              "      <td>0.610289</td>\n",
              "      <td>0.607209</td>\n",
              "      <td>0.449466</td>\n",
              "      <td>0.318636</td>\n",
              "      <td>0.533226</td>\n",
              "      <td>0.525923</td>\n",
              "      <td>0.499668</td>\n",
              "      <td>0.027606</td>\n",
              "    </tr>\n",
              "    <tr>\n",
              "      <th>4</th>\n",
              "      <td>883.0</td>\n",
              "      <td>1430.0</td>\n",
              "      <td>1887.0</td>\n",
              "      <td>2586.0</td>\n",
              "      <td>3108.0</td>\n",
              "      <td>3009.0</td>\n",
              "      <td>3090.0</td>\n",
              "      <td>3460.0</td>\n",
              "      <td>3891.0</td>\n",
              "      <td>2731.0</td>\n",
              "      <td>...</td>\n",
              "      <td>0.116254</td>\n",
              "      <td>0.151584</td>\n",
              "      <td>0.572848</td>\n",
              "      <td>0.514308</td>\n",
              "      <td>0.427858</td>\n",
              "      <td>0.296121</td>\n",
              "      <td>0.443293</td>\n",
              "      <td>0.426191</td>\n",
              "      <td>0.465427</td>\n",
              "      <td>0.025349</td>\n",
              "    </tr>\n",
              "    <tr>\n",
              "      <th>...</th>\n",
              "      <td>...</td>\n",
              "      <td>...</td>\n",
              "      <td>...</td>\n",
              "      <td>...</td>\n",
              "      <td>...</td>\n",
              "      <td>...</td>\n",
              "      <td>...</td>\n",
              "      <td>...</td>\n",
              "      <td>...</td>\n",
              "      <td>...</td>\n",
              "      <td>...</td>\n",
              "      <td>...</td>\n",
              "      <td>...</td>\n",
              "      <td>...</td>\n",
              "      <td>...</td>\n",
              "      <td>...</td>\n",
              "      <td>...</td>\n",
              "      <td>...</td>\n",
              "      <td>...</td>\n",
              "      <td>...</td>\n",
              "      <td>...</td>\n",
              "    </tr>\n",
              "    <tr>\n",
              "      <th>236877</th>\n",
              "      <td>579.0</td>\n",
              "      <td>798.0</td>\n",
              "      <td>1047.0</td>\n",
              "      <td>1517.0</td>\n",
              "      <td>2082.0</td>\n",
              "      <td>1900.0</td>\n",
              "      <td>2222.0</td>\n",
              "      <td>2345.0</td>\n",
              "      <td>2386.0</td>\n",
              "      <td>1934.0</td>\n",
              "      <td>...</td>\n",
              "      <td>0.217877</td>\n",
              "      <td>0.184917</td>\n",
              "      <td>0.387891</td>\n",
              "      <td>0.334233</td>\n",
              "      <td>0.324266</td>\n",
              "      <td>0.368641</td>\n",
              "      <td>0.316932</td>\n",
              "      <td>0.376947</td>\n",
              "      <td>0.391092</td>\n",
              "      <td>0.138523</td>\n",
              "    </tr>\n",
              "    <tr>\n",
              "      <th>236878</th>\n",
              "      <td>566.0</td>\n",
              "      <td>887.0</td>\n",
              "      <td>948.0</td>\n",
              "      <td>1564.0</td>\n",
              "      <td>2975.0</td>\n",
              "      <td>2620.0</td>\n",
              "      <td>3115.0</td>\n",
              "      <td>3284.0</td>\n",
              "      <td>2712.0</td>\n",
              "      <td>1916.0</td>\n",
              "      <td>...</td>\n",
              "      <td>0.210669</td>\n",
              "      <td>0.253482</td>\n",
              "      <td>0.627102</td>\n",
              "      <td>0.563694</td>\n",
              "      <td>0.442593</td>\n",
              "      <td>0.542278</td>\n",
              "      <td>0.480606</td>\n",
              "      <td>0.562367</td>\n",
              "      <td>0.516373</td>\n",
              "      <td>0.278116</td>\n",
              "    </tr>\n",
              "    <tr>\n",
              "      <th>236879</th>\n",
              "      <td>560.0</td>\n",
              "      <td>860.0</td>\n",
              "      <td>979.0</td>\n",
              "      <td>1542.0</td>\n",
              "      <td>2836.0</td>\n",
              "      <td>2501.0</td>\n",
              "      <td>2814.0</td>\n",
              "      <td>3099.0</td>\n",
              "      <td>2671.0</td>\n",
              "      <td>1875.0</td>\n",
              "      <td>...</td>\n",
              "      <td>0.206102</td>\n",
              "      <td>0.189584</td>\n",
              "      <td>0.548940</td>\n",
              "      <td>0.480419</td>\n",
              "      <td>0.372256</td>\n",
              "      <td>0.519492</td>\n",
              "      <td>0.415214</td>\n",
              "      <td>0.525096</td>\n",
              "      <td>0.461217</td>\n",
              "      <td>0.238712</td>\n",
              "    </tr>\n",
              "    <tr>\n",
              "      <th>236880</th>\n",
              "      <td>543.0</td>\n",
              "      <td>793.0</td>\n",
              "      <td>901.0</td>\n",
              "      <td>1522.0</td>\n",
              "      <td>2696.0</td>\n",
              "      <td>2341.0</td>\n",
              "      <td>2738.0</td>\n",
              "      <td>2893.0</td>\n",
              "      <td>2596.0</td>\n",
              "      <td>1815.0</td>\n",
              "      <td>...</td>\n",
              "      <td>0.224883</td>\n",
              "      <td>0.195487</td>\n",
              "      <td>0.570929</td>\n",
              "      <td>0.537437</td>\n",
              "      <td>0.445663</td>\n",
              "      <td>0.494756</td>\n",
              "      <td>0.437424</td>\n",
              "      <td>0.524247</td>\n",
              "      <td>0.475580</td>\n",
              "      <td>0.253440</td>\n",
              "    </tr>\n",
              "    <tr>\n",
              "      <th>236881</th>\n",
              "      <td>525.0</td>\n",
              "      <td>768.0</td>\n",
              "      <td>975.0</td>\n",
              "      <td>1535.0</td>\n",
              "      <td>2476.0</td>\n",
              "      <td>2148.0</td>\n",
              "      <td>2488.0</td>\n",
              "      <td>2687.0</td>\n",
              "      <td>2503.0</td>\n",
              "      <td>1846.0</td>\n",
              "      <td>...</td>\n",
              "      <td>0.239258</td>\n",
              "      <td>0.219444</td>\n",
              "      <td>0.498737</td>\n",
              "      <td>0.468022</td>\n",
              "      <td>0.407846</td>\n",
              "      <td>0.454254</td>\n",
              "      <td>0.353588</td>\n",
              "      <td>0.443636</td>\n",
              "      <td>0.437156</td>\n",
              "      <td>0.259399</td>\n",
              "    </tr>\n",
              "  </tbody>\n",
              "</table>\n",
              "<p>236882 rows × 782 columns</p>\n",
              "</div>\n",
              "      <button class=\"colab-df-convert\" onclick=\"convertToInteractive('df-224dd4c9-a744-4f61-abb9-84caecc882d4')\"\n",
              "              title=\"Convert this dataframe to an interactive table.\"\n",
              "              style=\"display:none;\">\n",
              "        \n",
              "  <svg xmlns=\"http://www.w3.org/2000/svg\" height=\"24px\"viewBox=\"0 0 24 24\"\n",
              "       width=\"24px\">\n",
              "    <path d=\"M0 0h24v24H0V0z\" fill=\"none\"/>\n",
              "    <path d=\"M18.56 5.44l.94 2.06.94-2.06 2.06-.94-2.06-.94-.94-2.06-.94 2.06-2.06.94zm-11 1L8.5 8.5l.94-2.06 2.06-.94-2.06-.94L8.5 2.5l-.94 2.06-2.06.94zm10 10l.94 2.06.94-2.06 2.06-.94-2.06-.94-.94-2.06-.94 2.06-2.06.94z\"/><path d=\"M17.41 7.96l-1.37-1.37c-.4-.4-.92-.59-1.43-.59-.52 0-1.04.2-1.43.59L10.3 9.45l-7.72 7.72c-.78.78-.78 2.05 0 2.83L4 21.41c.39.39.9.59 1.41.59.51 0 1.02-.2 1.41-.59l7.78-7.78 2.81-2.81c.8-.78.8-2.07 0-2.86zM5.41 20L4 18.59l7.72-7.72 1.47 1.35L5.41 20z\"/>\n",
              "  </svg>\n",
              "      </button>\n",
              "      \n",
              "  <style>\n",
              "    .colab-df-container {\n",
              "      display:flex;\n",
              "      flex-wrap:wrap;\n",
              "      gap: 12px;\n",
              "    }\n",
              "\n",
              "    .colab-df-convert {\n",
              "      background-color: #E8F0FE;\n",
              "      border: none;\n",
              "      border-radius: 50%;\n",
              "      cursor: pointer;\n",
              "      display: none;\n",
              "      fill: #1967D2;\n",
              "      height: 32px;\n",
              "      padding: 0 0 0 0;\n",
              "      width: 32px;\n",
              "    }\n",
              "\n",
              "    .colab-df-convert:hover {\n",
              "      background-color: #E2EBFA;\n",
              "      box-shadow: 0px 1px 2px rgba(60, 64, 67, 0.3), 0px 1px 3px 1px rgba(60, 64, 67, 0.15);\n",
              "      fill: #174EA6;\n",
              "    }\n",
              "\n",
              "    [theme=dark] .colab-df-convert {\n",
              "      background-color: #3B4455;\n",
              "      fill: #D2E3FC;\n",
              "    }\n",
              "\n",
              "    [theme=dark] .colab-df-convert:hover {\n",
              "      background-color: #434B5C;\n",
              "      box-shadow: 0px 1px 3px 1px rgba(0, 0, 0, 0.15);\n",
              "      filter: drop-shadow(0px 1px 2px rgba(0, 0, 0, 0.3));\n",
              "      fill: #FFFFFF;\n",
              "    }\n",
              "  </style>\n",
              "\n",
              "      <script>\n",
              "        const buttonEl =\n",
              "          document.querySelector('#df-224dd4c9-a744-4f61-abb9-84caecc882d4 button.colab-df-convert');\n",
              "        buttonEl.style.display =\n",
              "          google.colab.kernel.accessAllowed ? 'block' : 'none';\n",
              "\n",
              "        async function convertToInteractive(key) {\n",
              "          const element = document.querySelector('#df-224dd4c9-a744-4f61-abb9-84caecc882d4');\n",
              "          const dataTable =\n",
              "            await google.colab.kernel.invokeFunction('convertToInteractive',\n",
              "                                                     [key], {});\n",
              "          if (!dataTable) return;\n",
              "\n",
              "          const docLinkHtml = 'Like what you see? Visit the ' +\n",
              "            '<a target=\"_blank\" href=https://colab.research.google.com/notebooks/data_table.ipynb>data table notebook</a>'\n",
              "            + ' to learn more about interactive tables.';\n",
              "          element.innerHTML = '';\n",
              "          dataTable['output_type'] = 'display_data';\n",
              "          await google.colab.output.renderOutput(dataTable, element);\n",
              "          const docLink = document.createElement('div');\n",
              "          docLink.innerHTML = docLinkHtml;\n",
              "          element.appendChild(docLink);\n",
              "        }\n",
              "      </script>\n",
              "    </div>\n",
              "  </div>\n",
              "  "
            ]
          },
          "metadata": {},
          "execution_count": 5
        }
      ]
    },
    {
      "cell_type": "code",
      "source": [
        "X_ndvi = ndvi_ds.drop([\"class\"], axis=1)\n",
        "y_crops = ndvi_ds[\"class\"]"
      ],
      "metadata": {
        "id": "4hMX0isWW4NW"
      },
      "execution_count": null,
      "outputs": []
    },
    {
      "cell_type": "code",
      "source": [
        "finalds = pd.read_parquet(final_path)\n",
        "# finalds.head()"
      ],
      "metadata": {
        "id": "PemqYh3hW7ir"
      },
      "execution_count": null,
      "outputs": []
    },
    {
      "cell_type": "code",
      "source": [
        "X_fds = finalds.drop([\"class\"], axis=1)\n",
        "X_fds.head()"
      ],
      "metadata": {
        "colab": {
          "base_uri": "https://localhost:8080/",
          "height": 300
        },
        "id": "SlWg-qkbW9V7",
        "outputId": "191cc4f0-6353-4683-d204-5c9811f95171"
      },
      "execution_count": null,
      "outputs": [
        {
          "output_type": "execute_result",
          "data": {
            "text/plain": [
              "   20211222_B02  20211222_B03  20211222_B04  20211222_B05  20211222_B06  \\\n",
              "0        1120.0        1531.0        2076.0        3261.0        3864.0   \n",
              "1        1138.0        1535.0        2035.0        3280.0        3896.0   \n",
              "2        1183.0        1567.0        2130.0        3195.0        3822.0   \n",
              "3        1235.0        1618.0        2179.0        2966.0        3572.0   \n",
              "4         883.0        1430.0        1887.0        2586.0        3108.0   \n",
              "\n",
              "   20211222_B07  20211222_B08  20211222_B8A  20211222_B11  20211222_B12  ...  \\\n",
              "0        3578.0        3650.0        4470.0        4794.0        3255.0  ...   \n",
              "1        3601.0        3540.0        4507.0        4797.0        3290.0  ...   \n",
              "2        3539.0        3619.0        4391.0        4720.0        3247.0  ...   \n",
              "3        3351.0        3601.0        4050.0        4465.0        3075.0  ...   \n",
              "4        3009.0        3090.0        3460.0        3891.0        2731.0  ...   \n",
              "\n",
              "   20210210_B02  20210210_B03  20210210_B04  20210210_B05  20210210_B06  \\\n",
              "0        6992.0        6865.0        6780.0        6370.0        6510.0   \n",
              "1        7120.0        6952.0        6878.0        6503.0        6698.0   \n",
              "2        7248.0        7004.0        6953.0        6540.0        6755.0   \n",
              "3        7173.0        6967.0        6904.0        6450.0        6652.0   \n",
              "4        7098.0        6944.0        6921.0        6314.0        6522.0   \n",
              "\n",
              "   20210210_B07  20210210_B08  20210210_B8A  20210210_B11  20210210_B12  \n",
              "0        6430.0        7004.0        6278.0        6004.0        6553.0  \n",
              "1        6572.0        7198.0        6446.0        6066.0        6687.0  \n",
              "2        6595.0        7254.0        6474.0        6052.0        6740.0  \n",
              "3        6474.0        7296.0        6344.0        5970.0        6681.0  \n",
              "4        6306.0        7281.0        6214.0        5887.0        6571.0  \n",
              "\n",
              "[5 rows x 710 columns]"
            ],
            "text/html": [
              "\n",
              "  <div id=\"df-847edad6-8df5-49cc-9d5e-97bbb9602af0\">\n",
              "    <div class=\"colab-df-container\">\n",
              "      <div>\n",
              "<style scoped>\n",
              "    .dataframe tbody tr th:only-of-type {\n",
              "        vertical-align: middle;\n",
              "    }\n",
              "\n",
              "    .dataframe tbody tr th {\n",
              "        vertical-align: top;\n",
              "    }\n",
              "\n",
              "    .dataframe thead th {\n",
              "        text-align: right;\n",
              "    }\n",
              "</style>\n",
              "<table border=\"1\" class=\"dataframe\">\n",
              "  <thead>\n",
              "    <tr style=\"text-align: right;\">\n",
              "      <th></th>\n",
              "      <th>20211222_B02</th>\n",
              "      <th>20211222_B03</th>\n",
              "      <th>20211222_B04</th>\n",
              "      <th>20211222_B05</th>\n",
              "      <th>20211222_B06</th>\n",
              "      <th>20211222_B07</th>\n",
              "      <th>20211222_B08</th>\n",
              "      <th>20211222_B8A</th>\n",
              "      <th>20211222_B11</th>\n",
              "      <th>20211222_B12</th>\n",
              "      <th>...</th>\n",
              "      <th>20210210_B02</th>\n",
              "      <th>20210210_B03</th>\n",
              "      <th>20210210_B04</th>\n",
              "      <th>20210210_B05</th>\n",
              "      <th>20210210_B06</th>\n",
              "      <th>20210210_B07</th>\n",
              "      <th>20210210_B08</th>\n",
              "      <th>20210210_B8A</th>\n",
              "      <th>20210210_B11</th>\n",
              "      <th>20210210_B12</th>\n",
              "    </tr>\n",
              "  </thead>\n",
              "  <tbody>\n",
              "    <tr>\n",
              "      <th>0</th>\n",
              "      <td>1120.0</td>\n",
              "      <td>1531.0</td>\n",
              "      <td>2076.0</td>\n",
              "      <td>3261.0</td>\n",
              "      <td>3864.0</td>\n",
              "      <td>3578.0</td>\n",
              "      <td>3650.0</td>\n",
              "      <td>4470.0</td>\n",
              "      <td>4794.0</td>\n",
              "      <td>3255.0</td>\n",
              "      <td>...</td>\n",
              "      <td>6992.0</td>\n",
              "      <td>6865.0</td>\n",
              "      <td>6780.0</td>\n",
              "      <td>6370.0</td>\n",
              "      <td>6510.0</td>\n",
              "      <td>6430.0</td>\n",
              "      <td>7004.0</td>\n",
              "      <td>6278.0</td>\n",
              "      <td>6004.0</td>\n",
              "      <td>6553.0</td>\n",
              "    </tr>\n",
              "    <tr>\n",
              "      <th>1</th>\n",
              "      <td>1138.0</td>\n",
              "      <td>1535.0</td>\n",
              "      <td>2035.0</td>\n",
              "      <td>3280.0</td>\n",
              "      <td>3896.0</td>\n",
              "      <td>3601.0</td>\n",
              "      <td>3540.0</td>\n",
              "      <td>4507.0</td>\n",
              "      <td>4797.0</td>\n",
              "      <td>3290.0</td>\n",
              "      <td>...</td>\n",
              "      <td>7120.0</td>\n",
              "      <td>6952.0</td>\n",
              "      <td>6878.0</td>\n",
              "      <td>6503.0</td>\n",
              "      <td>6698.0</td>\n",
              "      <td>6572.0</td>\n",
              "      <td>7198.0</td>\n",
              "      <td>6446.0</td>\n",
              "      <td>6066.0</td>\n",
              "      <td>6687.0</td>\n",
              "    </tr>\n",
              "    <tr>\n",
              "      <th>2</th>\n",
              "      <td>1183.0</td>\n",
              "      <td>1567.0</td>\n",
              "      <td>2130.0</td>\n",
              "      <td>3195.0</td>\n",
              "      <td>3822.0</td>\n",
              "      <td>3539.0</td>\n",
              "      <td>3619.0</td>\n",
              "      <td>4391.0</td>\n",
              "      <td>4720.0</td>\n",
              "      <td>3247.0</td>\n",
              "      <td>...</td>\n",
              "      <td>7248.0</td>\n",
              "      <td>7004.0</td>\n",
              "      <td>6953.0</td>\n",
              "      <td>6540.0</td>\n",
              "      <td>6755.0</td>\n",
              "      <td>6595.0</td>\n",
              "      <td>7254.0</td>\n",
              "      <td>6474.0</td>\n",
              "      <td>6052.0</td>\n",
              "      <td>6740.0</td>\n",
              "    </tr>\n",
              "    <tr>\n",
              "      <th>3</th>\n",
              "      <td>1235.0</td>\n",
              "      <td>1618.0</td>\n",
              "      <td>2179.0</td>\n",
              "      <td>2966.0</td>\n",
              "      <td>3572.0</td>\n",
              "      <td>3351.0</td>\n",
              "      <td>3601.0</td>\n",
              "      <td>4050.0</td>\n",
              "      <td>4465.0</td>\n",
              "      <td>3075.0</td>\n",
              "      <td>...</td>\n",
              "      <td>7173.0</td>\n",
              "      <td>6967.0</td>\n",
              "      <td>6904.0</td>\n",
              "      <td>6450.0</td>\n",
              "      <td>6652.0</td>\n",
              "      <td>6474.0</td>\n",
              "      <td>7296.0</td>\n",
              "      <td>6344.0</td>\n",
              "      <td>5970.0</td>\n",
              "      <td>6681.0</td>\n",
              "    </tr>\n",
              "    <tr>\n",
              "      <th>4</th>\n",
              "      <td>883.0</td>\n",
              "      <td>1430.0</td>\n",
              "      <td>1887.0</td>\n",
              "      <td>2586.0</td>\n",
              "      <td>3108.0</td>\n",
              "      <td>3009.0</td>\n",
              "      <td>3090.0</td>\n",
              "      <td>3460.0</td>\n",
              "      <td>3891.0</td>\n",
              "      <td>2731.0</td>\n",
              "      <td>...</td>\n",
              "      <td>7098.0</td>\n",
              "      <td>6944.0</td>\n",
              "      <td>6921.0</td>\n",
              "      <td>6314.0</td>\n",
              "      <td>6522.0</td>\n",
              "      <td>6306.0</td>\n",
              "      <td>7281.0</td>\n",
              "      <td>6214.0</td>\n",
              "      <td>5887.0</td>\n",
              "      <td>6571.0</td>\n",
              "    </tr>\n",
              "  </tbody>\n",
              "</table>\n",
              "<p>5 rows × 710 columns</p>\n",
              "</div>\n",
              "      <button class=\"colab-df-convert\" onclick=\"convertToInteractive('df-847edad6-8df5-49cc-9d5e-97bbb9602af0')\"\n",
              "              title=\"Convert this dataframe to an interactive table.\"\n",
              "              style=\"display:none;\">\n",
              "        \n",
              "  <svg xmlns=\"http://www.w3.org/2000/svg\" height=\"24px\"viewBox=\"0 0 24 24\"\n",
              "       width=\"24px\">\n",
              "    <path d=\"M0 0h24v24H0V0z\" fill=\"none\"/>\n",
              "    <path d=\"M18.56 5.44l.94 2.06.94-2.06 2.06-.94-2.06-.94-.94-2.06-.94 2.06-2.06.94zm-11 1L8.5 8.5l.94-2.06 2.06-.94-2.06-.94L8.5 2.5l-.94 2.06-2.06.94zm10 10l.94 2.06.94-2.06 2.06-.94-2.06-.94-.94-2.06-.94 2.06-2.06.94z\"/><path d=\"M17.41 7.96l-1.37-1.37c-.4-.4-.92-.59-1.43-.59-.52 0-1.04.2-1.43.59L10.3 9.45l-7.72 7.72c-.78.78-.78 2.05 0 2.83L4 21.41c.39.39.9.59 1.41.59.51 0 1.02-.2 1.41-.59l7.78-7.78 2.81-2.81c.8-.78.8-2.07 0-2.86zM5.41 20L4 18.59l7.72-7.72 1.47 1.35L5.41 20z\"/>\n",
              "  </svg>\n",
              "      </button>\n",
              "      \n",
              "  <style>\n",
              "    .colab-df-container {\n",
              "      display:flex;\n",
              "      flex-wrap:wrap;\n",
              "      gap: 12px;\n",
              "    }\n",
              "\n",
              "    .colab-df-convert {\n",
              "      background-color: #E8F0FE;\n",
              "      border: none;\n",
              "      border-radius: 50%;\n",
              "      cursor: pointer;\n",
              "      display: none;\n",
              "      fill: #1967D2;\n",
              "      height: 32px;\n",
              "      padding: 0 0 0 0;\n",
              "      width: 32px;\n",
              "    }\n",
              "\n",
              "    .colab-df-convert:hover {\n",
              "      background-color: #E2EBFA;\n",
              "      box-shadow: 0px 1px 2px rgba(60, 64, 67, 0.3), 0px 1px 3px 1px rgba(60, 64, 67, 0.15);\n",
              "      fill: #174EA6;\n",
              "    }\n",
              "\n",
              "    [theme=dark] .colab-df-convert {\n",
              "      background-color: #3B4455;\n",
              "      fill: #D2E3FC;\n",
              "    }\n",
              "\n",
              "    [theme=dark] .colab-df-convert:hover {\n",
              "      background-color: #434B5C;\n",
              "      box-shadow: 0px 1px 3px 1px rgba(0, 0, 0, 0.15);\n",
              "      filter: drop-shadow(0px 1px 2px rgba(0, 0, 0, 0.3));\n",
              "      fill: #FFFFFF;\n",
              "    }\n",
              "  </style>\n",
              "\n",
              "      <script>\n",
              "        const buttonEl =\n",
              "          document.querySelector('#df-847edad6-8df5-49cc-9d5e-97bbb9602af0 button.colab-df-convert');\n",
              "        buttonEl.style.display =\n",
              "          google.colab.kernel.accessAllowed ? 'block' : 'none';\n",
              "\n",
              "        async function convertToInteractive(key) {\n",
              "          const element = document.querySelector('#df-847edad6-8df5-49cc-9d5e-97bbb9602af0');\n",
              "          const dataTable =\n",
              "            await google.colab.kernel.invokeFunction('convertToInteractive',\n",
              "                                                     [key], {});\n",
              "          if (!dataTable) return;\n",
              "\n",
              "          const docLinkHtml = 'Like what you see? Visit the ' +\n",
              "            '<a target=\"_blank\" href=https://colab.research.google.com/notebooks/data_table.ipynb>data table notebook</a>'\n",
              "            + ' to learn more about interactive tables.';\n",
              "          element.innerHTML = '';\n",
              "          dataTable['output_type'] = 'display_data';\n",
              "          await google.colab.output.renderOutput(dataTable, element);\n",
              "          const docLink = document.createElement('div');\n",
              "          docLink.innerHTML = docLinkHtml;\n",
              "          element.appendChild(docLink);\n",
              "        }\n",
              "      </script>\n",
              "    </div>\n",
              "  </div>\n",
              "  "
            ]
          },
          "metadata": {},
          "execution_count": 8
        }
      ]
    },
    {
      "cell_type": "code",
      "source": [
        "cols = list()\n",
        "for col in X_ndvi:\n",
        "  if col.split('_')[1] == 'ndvi':\n",
        "    cols.append(col)\n",
        "\n",
        "X_ndvi = X_ndvi.drop(columns=cols)\n",
        "X_ndvi.head()"
      ],
      "metadata": {
        "colab": {
          "base_uri": "https://localhost:8080/",
          "height": 300
        },
        "id": "q5vfTct9bFsx",
        "outputId": "be182cc7-3f02-4803-933b-11899f4571c3"
      },
      "execution_count": null,
      "outputs": [
        {
          "output_type": "execute_result",
          "data": {
            "text/plain": [
              "   20211222_B02  20211222_B03  20211222_B04  20211222_B05  20211222_B06  \\\n",
              "0        1120.0        1531.0        2076.0        3261.0        3864.0   \n",
              "1        1138.0        1535.0        2035.0        3280.0        3896.0   \n",
              "2        1183.0        1567.0        2130.0        3195.0        3822.0   \n",
              "3        1235.0        1618.0        2179.0        2966.0        3572.0   \n",
              "4         883.0        1430.0        1887.0        2586.0        3108.0   \n",
              "\n",
              "   20211222_B07  20211222_B08  20211222_B8A  20211222_B11  20211222_B12  ...  \\\n",
              "0        3578.0        3650.0        4470.0        4794.0        3255.0  ...   \n",
              "1        3601.0        3540.0        4507.0        4797.0        3290.0  ...   \n",
              "2        3539.0        3619.0        4391.0        4720.0        3247.0  ...   \n",
              "3        3351.0        3601.0        4050.0        4465.0        3075.0  ...   \n",
              "4        3009.0        3090.0        3460.0        3891.0        2731.0  ...   \n",
              "\n",
              "   20210210_B02  20210210_B03  20210210_B04  20210210_B05  20210210_B06  \\\n",
              "0        6992.0        6865.0        6780.0        6370.0        6510.0   \n",
              "1        7120.0        6952.0        6878.0        6503.0        6698.0   \n",
              "2        7248.0        7004.0        6953.0        6540.0        6755.0   \n",
              "3        7173.0        6967.0        6904.0        6450.0        6652.0   \n",
              "4        7098.0        6944.0        6921.0        6314.0        6522.0   \n",
              "\n",
              "   20210210_B07  20210210_B08  20210210_B8A  20210210_B11  20210210_B12  \n",
              "0        6430.0        7004.0        6278.0        6004.0        6553.0  \n",
              "1        6572.0        7198.0        6446.0        6066.0        6687.0  \n",
              "2        6595.0        7254.0        6474.0        6052.0        6740.0  \n",
              "3        6474.0        7296.0        6344.0        5970.0        6681.0  \n",
              "4        6306.0        7281.0        6214.0        5887.0        6571.0  \n",
              "\n",
              "[5 rows x 710 columns]"
            ],
            "text/html": [
              "\n",
              "  <div id=\"df-f96ecf91-04e5-46ce-88b6-5f6cbda05c69\">\n",
              "    <div class=\"colab-df-container\">\n",
              "      <div>\n",
              "<style scoped>\n",
              "    .dataframe tbody tr th:only-of-type {\n",
              "        vertical-align: middle;\n",
              "    }\n",
              "\n",
              "    .dataframe tbody tr th {\n",
              "        vertical-align: top;\n",
              "    }\n",
              "\n",
              "    .dataframe thead th {\n",
              "        text-align: right;\n",
              "    }\n",
              "</style>\n",
              "<table border=\"1\" class=\"dataframe\">\n",
              "  <thead>\n",
              "    <tr style=\"text-align: right;\">\n",
              "      <th></th>\n",
              "      <th>20211222_B02</th>\n",
              "      <th>20211222_B03</th>\n",
              "      <th>20211222_B04</th>\n",
              "      <th>20211222_B05</th>\n",
              "      <th>20211222_B06</th>\n",
              "      <th>20211222_B07</th>\n",
              "      <th>20211222_B08</th>\n",
              "      <th>20211222_B8A</th>\n",
              "      <th>20211222_B11</th>\n",
              "      <th>20211222_B12</th>\n",
              "      <th>...</th>\n",
              "      <th>20210210_B02</th>\n",
              "      <th>20210210_B03</th>\n",
              "      <th>20210210_B04</th>\n",
              "      <th>20210210_B05</th>\n",
              "      <th>20210210_B06</th>\n",
              "      <th>20210210_B07</th>\n",
              "      <th>20210210_B08</th>\n",
              "      <th>20210210_B8A</th>\n",
              "      <th>20210210_B11</th>\n",
              "      <th>20210210_B12</th>\n",
              "    </tr>\n",
              "  </thead>\n",
              "  <tbody>\n",
              "    <tr>\n",
              "      <th>0</th>\n",
              "      <td>1120.0</td>\n",
              "      <td>1531.0</td>\n",
              "      <td>2076.0</td>\n",
              "      <td>3261.0</td>\n",
              "      <td>3864.0</td>\n",
              "      <td>3578.0</td>\n",
              "      <td>3650.0</td>\n",
              "      <td>4470.0</td>\n",
              "      <td>4794.0</td>\n",
              "      <td>3255.0</td>\n",
              "      <td>...</td>\n",
              "      <td>6992.0</td>\n",
              "      <td>6865.0</td>\n",
              "      <td>6780.0</td>\n",
              "      <td>6370.0</td>\n",
              "      <td>6510.0</td>\n",
              "      <td>6430.0</td>\n",
              "      <td>7004.0</td>\n",
              "      <td>6278.0</td>\n",
              "      <td>6004.0</td>\n",
              "      <td>6553.0</td>\n",
              "    </tr>\n",
              "    <tr>\n",
              "      <th>1</th>\n",
              "      <td>1138.0</td>\n",
              "      <td>1535.0</td>\n",
              "      <td>2035.0</td>\n",
              "      <td>3280.0</td>\n",
              "      <td>3896.0</td>\n",
              "      <td>3601.0</td>\n",
              "      <td>3540.0</td>\n",
              "      <td>4507.0</td>\n",
              "      <td>4797.0</td>\n",
              "      <td>3290.0</td>\n",
              "      <td>...</td>\n",
              "      <td>7120.0</td>\n",
              "      <td>6952.0</td>\n",
              "      <td>6878.0</td>\n",
              "      <td>6503.0</td>\n",
              "      <td>6698.0</td>\n",
              "      <td>6572.0</td>\n",
              "      <td>7198.0</td>\n",
              "      <td>6446.0</td>\n",
              "      <td>6066.0</td>\n",
              "      <td>6687.0</td>\n",
              "    </tr>\n",
              "    <tr>\n",
              "      <th>2</th>\n",
              "      <td>1183.0</td>\n",
              "      <td>1567.0</td>\n",
              "      <td>2130.0</td>\n",
              "      <td>3195.0</td>\n",
              "      <td>3822.0</td>\n",
              "      <td>3539.0</td>\n",
              "      <td>3619.0</td>\n",
              "      <td>4391.0</td>\n",
              "      <td>4720.0</td>\n",
              "      <td>3247.0</td>\n",
              "      <td>...</td>\n",
              "      <td>7248.0</td>\n",
              "      <td>7004.0</td>\n",
              "      <td>6953.0</td>\n",
              "      <td>6540.0</td>\n",
              "      <td>6755.0</td>\n",
              "      <td>6595.0</td>\n",
              "      <td>7254.0</td>\n",
              "      <td>6474.0</td>\n",
              "      <td>6052.0</td>\n",
              "      <td>6740.0</td>\n",
              "    </tr>\n",
              "    <tr>\n",
              "      <th>3</th>\n",
              "      <td>1235.0</td>\n",
              "      <td>1618.0</td>\n",
              "      <td>2179.0</td>\n",
              "      <td>2966.0</td>\n",
              "      <td>3572.0</td>\n",
              "      <td>3351.0</td>\n",
              "      <td>3601.0</td>\n",
              "      <td>4050.0</td>\n",
              "      <td>4465.0</td>\n",
              "      <td>3075.0</td>\n",
              "      <td>...</td>\n",
              "      <td>7173.0</td>\n",
              "      <td>6967.0</td>\n",
              "      <td>6904.0</td>\n",
              "      <td>6450.0</td>\n",
              "      <td>6652.0</td>\n",
              "      <td>6474.0</td>\n",
              "      <td>7296.0</td>\n",
              "      <td>6344.0</td>\n",
              "      <td>5970.0</td>\n",
              "      <td>6681.0</td>\n",
              "    </tr>\n",
              "    <tr>\n",
              "      <th>4</th>\n",
              "      <td>883.0</td>\n",
              "      <td>1430.0</td>\n",
              "      <td>1887.0</td>\n",
              "      <td>2586.0</td>\n",
              "      <td>3108.0</td>\n",
              "      <td>3009.0</td>\n",
              "      <td>3090.0</td>\n",
              "      <td>3460.0</td>\n",
              "      <td>3891.0</td>\n",
              "      <td>2731.0</td>\n",
              "      <td>...</td>\n",
              "      <td>7098.0</td>\n",
              "      <td>6944.0</td>\n",
              "      <td>6921.0</td>\n",
              "      <td>6314.0</td>\n",
              "      <td>6522.0</td>\n",
              "      <td>6306.0</td>\n",
              "      <td>7281.0</td>\n",
              "      <td>6214.0</td>\n",
              "      <td>5887.0</td>\n",
              "      <td>6571.0</td>\n",
              "    </tr>\n",
              "  </tbody>\n",
              "</table>\n",
              "<p>5 rows × 710 columns</p>\n",
              "</div>\n",
              "      <button class=\"colab-df-convert\" onclick=\"convertToInteractive('df-f96ecf91-04e5-46ce-88b6-5f6cbda05c69')\"\n",
              "              title=\"Convert this dataframe to an interactive table.\"\n",
              "              style=\"display:none;\">\n",
              "        \n",
              "  <svg xmlns=\"http://www.w3.org/2000/svg\" height=\"24px\"viewBox=\"0 0 24 24\"\n",
              "       width=\"24px\">\n",
              "    <path d=\"M0 0h24v24H0V0z\" fill=\"none\"/>\n",
              "    <path d=\"M18.56 5.44l.94 2.06.94-2.06 2.06-.94-2.06-.94-.94-2.06-.94 2.06-2.06.94zm-11 1L8.5 8.5l.94-2.06 2.06-.94-2.06-.94L8.5 2.5l-.94 2.06-2.06.94zm10 10l.94 2.06.94-2.06 2.06-.94-2.06-.94-.94-2.06-.94 2.06-2.06.94z\"/><path d=\"M17.41 7.96l-1.37-1.37c-.4-.4-.92-.59-1.43-.59-.52 0-1.04.2-1.43.59L10.3 9.45l-7.72 7.72c-.78.78-.78 2.05 0 2.83L4 21.41c.39.39.9.59 1.41.59.51 0 1.02-.2 1.41-.59l7.78-7.78 2.81-2.81c.8-.78.8-2.07 0-2.86zM5.41 20L4 18.59l7.72-7.72 1.47 1.35L5.41 20z\"/>\n",
              "  </svg>\n",
              "      </button>\n",
              "      \n",
              "  <style>\n",
              "    .colab-df-container {\n",
              "      display:flex;\n",
              "      flex-wrap:wrap;\n",
              "      gap: 12px;\n",
              "    }\n",
              "\n",
              "    .colab-df-convert {\n",
              "      background-color: #E8F0FE;\n",
              "      border: none;\n",
              "      border-radius: 50%;\n",
              "      cursor: pointer;\n",
              "      display: none;\n",
              "      fill: #1967D2;\n",
              "      height: 32px;\n",
              "      padding: 0 0 0 0;\n",
              "      width: 32px;\n",
              "    }\n",
              "\n",
              "    .colab-df-convert:hover {\n",
              "      background-color: #E2EBFA;\n",
              "      box-shadow: 0px 1px 2px rgba(60, 64, 67, 0.3), 0px 1px 3px 1px rgba(60, 64, 67, 0.15);\n",
              "      fill: #174EA6;\n",
              "    }\n",
              "\n",
              "    [theme=dark] .colab-df-convert {\n",
              "      background-color: #3B4455;\n",
              "      fill: #D2E3FC;\n",
              "    }\n",
              "\n",
              "    [theme=dark] .colab-df-convert:hover {\n",
              "      background-color: #434B5C;\n",
              "      box-shadow: 0px 1px 3px 1px rgba(0, 0, 0, 0.15);\n",
              "      filter: drop-shadow(0px 1px 2px rgba(0, 0, 0, 0.3));\n",
              "      fill: #FFFFFF;\n",
              "    }\n",
              "  </style>\n",
              "\n",
              "      <script>\n",
              "        const buttonEl =\n",
              "          document.querySelector('#df-f96ecf91-04e5-46ce-88b6-5f6cbda05c69 button.colab-df-convert');\n",
              "        buttonEl.style.display =\n",
              "          google.colab.kernel.accessAllowed ? 'block' : 'none';\n",
              "\n",
              "        async function convertToInteractive(key) {\n",
              "          const element = document.querySelector('#df-f96ecf91-04e5-46ce-88b6-5f6cbda05c69');\n",
              "          const dataTable =\n",
              "            await google.colab.kernel.invokeFunction('convertToInteractive',\n",
              "                                                     [key], {});\n",
              "          if (!dataTable) return;\n",
              "\n",
              "          const docLinkHtml = 'Like what you see? Visit the ' +\n",
              "            '<a target=\"_blank\" href=https://colab.research.google.com/notebooks/data_table.ipynb>data table notebook</a>'\n",
              "            + ' to learn more about interactive tables.';\n",
              "          element.innerHTML = '';\n",
              "          dataTable['output_type'] = 'display_data';\n",
              "          await google.colab.output.renderOutput(dataTable, element);\n",
              "          const docLink = document.createElement('div');\n",
              "          docLink.innerHTML = docLinkHtml;\n",
              "          element.appendChild(docLink);\n",
              "        }\n",
              "      </script>\n",
              "    </div>\n",
              "  </div>\n",
              "  "
            ]
          },
          "metadata": {},
          "execution_count": 7
        }
      ]
    },
    {
      "cell_type": "code",
      "source": [
        "del ndvi_ds"
      ],
      "metadata": {
        "id": "clnVO4d_dDmb"
      },
      "execution_count": null,
      "outputs": []
    },
    {
      "cell_type": "code",
      "source": [
        "scaler_minmax = MinMaxScaler()\n",
        "X_ndvi = scaler_minmax.fit_transform(X_ndvi)\n",
        "# X_fds = scaler_minmax.fit_transform(X_fds)\n",
        "# X = np.concatenate((X_fds, np.asarray(X_ndvi)), axis=1)"
      ],
      "metadata": {
        "id": "jtK3nMc7W_o-"
      },
      "execution_count": null,
      "outputs": []
    },
    {
      "cell_type": "code",
      "source": [
        "from numpy import save, load\n",
        "save('/content/drive/MyDrive/features.npy', X)\n",
        "save('/content/drive/MyDrive/target.npy', y_crops)"
      ],
      "metadata": {
        "id": "IXJMFDoAXe4U"
      },
      "execution_count": null,
      "outputs": []
    },
    {
      "cell_type": "code",
      "source": [
        "from numpy import save, load\n",
        "X = load('/content/drive/MyDrive/features.npy')\n",
        "y = load('/content/drive/MyDrive/target.npy')"
      ],
      "metadata": {
        "id": "m61qOQPbZvt6"
      },
      "execution_count": null,
      "outputs": []
    },
    {
      "cell_type": "code",
      "source": [
        "cv = KFold(n_splits=3, random_state=1, shuffle=True)\n",
        "xgb = XGBClassifier(n_estimators = 100)\n",
        "scores = cross_val_score(xgb, X_ndvi, y_crops, scoring='f1', cv=cv, n_jobs=-1, verbose=2)\n",
        "print('F1 Score: %.3f (%.3f)' % (mean(scores), std(scores)))"
      ],
      "metadata": {
        "colab": {
          "base_uri": "https://localhost:8080/"
        },
        "id": "UiuVtdLzXIWa",
        "outputId": "2f5f4d51-1e06-42e4-a5fc-ccb2a26cfee2"
      },
      "execution_count": null,
      "outputs": [
        {
          "output_type": "stream",
          "name": "stderr",
          "text": [
            "[Parallel(n_jobs=-1)]: Using backend LokyBackend with 2 concurrent workers.\n"
          ]
        }
      ]
    },
    {
      "cell_type": "code",
      "source": [
        "import gc\n",
        "gc.collect()"
      ],
      "metadata": {
        "colab": {
          "base_uri": "https://localhost:8080/"
        },
        "id": "7wZH7UNhXiys",
        "outputId": "c88f796f-b144-4707-ea51-e83834f8ff4c"
      },
      "execution_count": null,
      "outputs": [
        {
          "output_type": "execute_result",
          "data": {
            "text/plain": [
              "176"
            ]
          },
          "metadata": {},
          "execution_count": 10
        }
      ]
    },
    {
      "cell_type": "code",
      "source": [
        "import tensorflow\n",
        "import keras\n",
        "from keras.models import Sequential\n",
        "from keras.layers import Dense, Activation, Conv1D, MaxPooling1D, Flatten\n",
        "\n",
        "import pandas\n",
        "from keras.models import Sequential\n",
        "from keras.layers import Dense\n",
        "from keras.wrappers.scikit_learn import KerasClassifier\n",
        "from keras.utils import np_utils\n",
        "from sklearn.model_selection import cross_val_score\n",
        "from sklearn.model_selection import KFold\n",
        "from sklearn.preprocessing import LabelEncoder\n",
        "from sklearn.pipeline import Pipeline"
      ],
      "metadata": {
        "id": "snLdGIvjciec"
      },
      "execution_count": null,
      "outputs": []
    },
    {
      "cell_type": "code",
      "source": [
        ""
      ],
      "metadata": {
        "id": "5vSq9Hf4u0Ov"
      },
      "execution_count": null,
      "outputs": []
    },
    {
      "cell_type": "code",
      "source": [
        "encoder = LabelEncoder()\n",
        "encoder.fit(y_crops)\n",
        "encoded_Y = encoder.transform(y_crops)\n",
        "# convert integers to dummy variables (i.e. one hot encoded)\n",
        "dummy_y = np_utils.to_categorical(encoded_Y,num_classes=4) #np_utils.to_categorical(encoded_Y)"
      ],
      "metadata": {
        "id": "gV8oyITarPAL"
      },
      "execution_count": null,
      "outputs": []
    },
    {
      "cell_type": "code",
      "source": [
        "from sklearn.model_selection import train_test_split\n"
      ],
      "metadata": {
        "id": "uzl2CRJRrTsh"
      },
      "execution_count": null,
      "outputs": []
    },
    {
      "cell_type": "code",
      "source": [
        "y_crops"
      ],
      "metadata": {
        "colab": {
          "base_uri": "https://localhost:8080/"
        },
        "id": "Nd_Jn3nhU5lU",
        "outputId": "649f14c1-b764-4d49-d02e-1975767ccf72"
      },
      "execution_count": null,
      "outputs": [
        {
          "output_type": "execute_result",
          "data": {
            "text/plain": [
              "0         4\n",
              "1         4\n",
              "2         4\n",
              "3         4\n",
              "4         4\n",
              "         ..\n",
              "236877    1\n",
              "236878    1\n",
              "236879    1\n",
              "236880    1\n",
              "236881    1\n",
              "Name: class, Length: 236882, dtype: int64"
            ]
          },
          "metadata": {},
          "execution_count": 8
        }
      ]
    },
    {
      "cell_type": "code",
      "source": [
        "X_train, X_test, y_train, y_test = train_test_split(X_ndvi, dummy_y, test_size=0.3, random_state=42,shuffle = True)\n"
      ],
      "metadata": {
        "id": "VxAadDBUvOWI"
      },
      "execution_count": null,
      "outputs": []
    },
    {
      "cell_type": "code",
      "source": [
        "import numpy\n",
        "import pandas\n",
        "from keras.models import Sequential\n",
        "from keras.layers import Dense\n",
        "from keras.wrappers.scikit_learn import KerasClassifier\n",
        "from keras.utils import np_utils\n",
        "from sklearn.model_selection import cross_val_score\n",
        "from sklearn.model_selection import KFold\n",
        "from sklearn.preprocessing import LabelEncoder\n",
        "from sklearn.pipeline import Pipeline\n",
        "from keras import regularizers\n",
        "from keras import initializers\n",
        "from keras.layers import Dense, Dropout, Activation\n",
        "from tensorflow.keras.optimizers import SGD\n"
      ],
      "metadata": {
        "id": "sBL54vj5vat8"
      },
      "execution_count": null,
      "outputs": []
    },
    {
      "cell_type": "code",
      "source": [
        "# fix random seed for reproducibility\n",
        "seed = 7\n",
        "numpy.random.seed(seed)\n",
        "\n",
        "\n",
        "\n",
        "model = Sequential()\n",
        "model.add(Dense(200, input_shape=(781, ), activation='relu',kernel_regularizer=regularizers.l2(1e-5),kernel_initializer=keras.initializers.glorot_normal(seed=seed),bias_initializer='zeros'))\n",
        "model.add(Dropout(0.5))\n",
        "model.add(Dense(4, activation='softmax'))\n",
        "model.summary()\n"
      ],
      "metadata": {
        "colab": {
          "base_uri": "https://localhost:8080/"
        },
        "id": "dKqzL47YvRJi",
        "outputId": "886fce92-2477-4862-b563-41cdbca74f56"
      },
      "execution_count": null,
      "outputs": [
        {
          "output_type": "stream",
          "name": "stdout",
          "text": [
            "Model: \"sequential_4\"\n",
            "_________________________________________________________________\n",
            " Layer (type)                Output Shape              Param #   \n",
            "=================================================================\n",
            " dense_5 (Dense)             (None, 200)               156400    \n",
            "                                                                 \n",
            " dropout_3 (Dropout)         (None, 200)               0         \n",
            "                                                                 \n",
            " dense_6 (Dense)             (None, 4)                 804       \n",
            "                                                                 \n",
            "=================================================================\n",
            "Total params: 157,204\n",
            "Trainable params: 157,204\n",
            "Non-trainable params: 0\n",
            "_________________________________________________________________\n"
          ]
        }
      ]
    },
    {
      "cell_type": "code",
      "source": [
        "sgd = tensorflow.keras.optimizers.Adadelta()\n",
        "model.compile(loss='categorical_crossentropy',\n",
        "              optimizer=sgd,\n",
        "              metrics=['acc'])"
      ],
      "metadata": {
        "id": "oIoMMlD3vX03"
      },
      "execution_count": null,
      "outputs": []
    },
    {
      "cell_type": "code",
      "source": [
        "model.fit(X_train, y_train,\n",
        "          epochs=10,\n",
        "          batch_size=100,\n",
        "         shuffle=True)\n",
        "score = model.evaluate(X_test, y_test, batch_size=100)\n",
        "print(\"\\n%s: %.2f%%\" % (model.metrics_names[1], score[1]*100))"
      ],
      "metadata": {
        "colab": {
          "base_uri": "https://localhost:8080/"
        },
        "id": "cbG4JBzLv1Gc",
        "outputId": "8b2be027-e69c-4295-e3a0-c500f1c8f6c2"
      },
      "execution_count": null,
      "outputs": [
        {
          "output_type": "stream",
          "name": "stdout",
          "text": [
            "Epoch 1/10\n",
            "2251/2251 [==============================] - 10s 3ms/step - loss: 3442.3474 - acc: 0.3348\n",
            "Epoch 2/10\n",
            "2251/2251 [==============================] - 9s 4ms/step - loss: 1566.7211 - acc: 0.3860\n",
            "Epoch 3/10\n",
            "2251/2251 [==============================] - 9s 4ms/step - loss: 597.6224 - acc: 0.4146\n",
            "Epoch 4/10\n",
            "2251/2251 [==============================] - 9s 4ms/step - loss: 161.4882 - acc: 0.4038\n",
            "Epoch 5/10\n",
            "2251/2251 [==============================] - 9s 4ms/step - loss: 31.4996 - acc: 0.4177\n",
            "Epoch 6/10\n",
            "2251/2251 [==============================] - 9s 4ms/step - loss: 11.5223 - acc: 0.4257\n",
            "Epoch 7/10\n",
            "2251/2251 [==============================] - 10s 4ms/step - loss: 6.6797 - acc: 0.4266\n",
            "Epoch 8/10\n",
            "2251/2251 [==============================] - 8s 4ms/step - loss: 4.6989 - acc: 0.4263\n",
            "Epoch 9/10\n",
            "2251/2251 [==============================] - 8s 4ms/step - loss: 3.6464 - acc: 0.4263\n",
            "Epoch 10/10\n",
            "2251/2251 [==============================] - 9s 4ms/step - loss: 3.0099 - acc: 0.4261\n",
            "119/119 [==============================] - 0s 2ms/step - loss: 2.6666 - acc: 0.4377\n",
            "\n",
            "acc: 43.77%\n"
          ]
        }
      ]
    },
    {
      "cell_type": "code",
      "source": [
        "model = Sequential()\n",
        "model.add(Conv1D(kernel_size = 5, strides=1,filters = 32, activation='relu',input_shape=(781,1)))\n",
        "                    \n",
        "print(model.input_shape)\n",
        "print(model.output_shape)\n",
        "\n",
        "model.add(MaxPooling1D(pool_size = (2), strides=(2)))\n",
        "print(model.output_shape)\n",
        "\n",
        "model.add(Conv1D (kernel_size = 5, strides=1, filters = 64, activation='relu'))\n",
        "print(model.output_shape)\n",
        "\n",
        "model.add(MaxPooling1D(pool_size = (2), strides=(2)))\n",
        "print(model.output_shape)\n",
        "\n",
        "model.add(Flatten())\n",
        "\n",
        "print(model.output_shape)\n",
        "\n",
        "model.add(Dense (1000, activation='relu'))\n",
        "print(model.output_shape)\n",
        "\n",
        "model.add(Dense(4, activation = 'softmax'))#,activity_regularizer=keras.regularizers.l2()))\n",
        "print(model.output_shape)\n",
        "\n",
        "#model.compile( loss='categorical_crossentropy', optimizer=keras.optimizers.Adam(lr=0.01), metrics=[keras.metrics.categorical_accuracy])\n",
        "model.compile(loss='categorical_crossentropy', optimizer=tensorflow.keras.optimizers.Adam(lr=0.001),metrics=['accuracy'])"
      ],
      "metadata": {
        "id": "vkNPRELOv8Yv",
        "colab": {
          "base_uri": "https://localhost:8080/"
        },
        "outputId": "9a99c094-1352-45c6-f8e4-0feccea38b0f"
      },
      "execution_count": null,
      "outputs": [
        {
          "output_type": "stream",
          "name": "stdout",
          "text": [
            "(None, 781, 1)\n",
            "(None, 777, 32)\n",
            "(None, 388, 32)\n",
            "(None, 384, 64)\n",
            "(None, 192, 64)\n",
            "(None, 12288)\n",
            "(None, 1000)\n",
            "(None, 4)\n"
          ]
        },
        {
          "output_type": "stream",
          "name": "stderr",
          "text": [
            "/usr/local/lib/python3.7/dist-packages/keras/optimizer_v2/adam.py:105: UserWarning: The `lr` argument is deprecated, use `learning_rate` instead.\n",
            "  super(Adam, self).__init__(name, **kwargs)\n"
          ]
        }
      ]
    },
    {
      "cell_type": "code",
      "source": [
        "X1 = np.expand_dims(X_train, axis=2)"
      ],
      "metadata": {
        "id": "6W_IFOxTVPzw"
      },
      "execution_count": null,
      "outputs": []
    },
    {
      "cell_type": "code",
      "source": [
        "X1.shape,y_train.shape"
      ],
      "metadata": {
        "colab": {
          "base_uri": "https://localhost:8080/"
        },
        "id": "uK6lTFk2VlYq",
        "outputId": "d6fe78c1-0ae2-45bb-82e2-e6d3a7ac7580"
      },
      "execution_count": null,
      "outputs": [
        {
          "output_type": "execute_result",
          "data": {
            "text/plain": [
              "((165817, 781, 1), (165817, 4))"
            ]
          },
          "metadata": {},
          "execution_count": 49
        }
      ]
    },
    {
      "cell_type": "code",
      "source": [
        "model.fit(X1, y_train, epochs=10, batch_size=50)"
      ],
      "metadata": {
        "colab": {
          "base_uri": "https://localhost:8080/"
        },
        "id": "-KgaWrJWVUQn",
        "outputId": "241048ea-b32a-488d-f7d7-4e2ae8b06b1f"
      },
      "execution_count": null,
      "outputs": [
        {
          "output_type": "stream",
          "name": "stdout",
          "text": [
            "Epoch 1/10\n",
            "3317/3317 [==============================] - 18s 5ms/step - loss: 43.3170 - accuracy: 0.8052\n",
            "Epoch 2/10\n",
            "3317/3317 [==============================] - 18s 5ms/step - loss: 0.2433 - accuracy: 0.9180\n",
            "Epoch 3/10\n",
            "3317/3317 [==============================] - 18s 5ms/step - loss: 0.2055 - accuracy: 0.9334\n",
            "Epoch 4/10\n",
            "3317/3317 [==============================] - 18s 5ms/step - loss: 0.1780 - accuracy: 0.9433\n",
            "Epoch 5/10\n",
            "3317/3317 [==============================] - 18s 5ms/step - loss: 0.1455 - accuracy: 0.9554\n",
            "Epoch 6/10\n",
            "3317/3317 [==============================] - 18s 5ms/step - loss: 0.1148 - accuracy: 0.9657\n",
            "Epoch 7/10\n",
            "3317/3317 [==============================] - 18s 6ms/step - loss: 0.0995 - accuracy: 0.9701\n",
            "Epoch 8/10\n",
            "3317/3317 [==============================] - 18s 5ms/step - loss: 0.0849 - accuracy: 0.9744\n",
            "Epoch 9/10\n",
            "3317/3317 [==============================] - 18s 5ms/step - loss: 0.0833 - accuracy: 0.9758\n",
            "Epoch 10/10\n",
            "3317/3317 [==============================] - 18s 5ms/step - loss: 0.0691 - accuracy: 0.9795\n"
          ]
        },
        {
          "output_type": "execute_result",
          "data": {
            "text/plain": [
              "<keras.callbacks.History at 0x7f18656dc450>"
            ]
          },
          "metadata": {},
          "execution_count": 50
        }
      ]
    },
    {
      "cell_type": "code",
      "source": [
        "X2 = np.expand_dims(X_test, axis=2)"
      ],
      "metadata": {
        "id": "8FIeeYF9VWb5"
      },
      "execution_count": null,
      "outputs": []
    },
    {
      "cell_type": "code",
      "source": [
        "scores = model.evaluate(X2, y_test)\n",
        "print(\"\\n%s: %.2f%%\" % (model.metrics_names[1], scores[1]*100))"
      ],
      "metadata": {
        "colab": {
          "base_uri": "https://localhost:8080/"
        },
        "id": "T8ofHzOSYV6m",
        "outputId": "941b756b-54f3-4a36-9c81-ad077731fa10"
      },
      "execution_count": null,
      "outputs": [
        {
          "output_type": "stream",
          "name": "stdout",
          "text": [
            "2221/2221 [==============================] - 8s 4ms/step - loss: 0.0839 - accuracy: 0.9774\n",
            "\n",
            "accuracy: 97.74%\n"
          ]
        }
      ]
    },
    {
      "cell_type": "code",
      "source": [
        "from sklearn.metrics import confusion_matrix\n",
        "preds = model.predict(X_test)\n",
        "preds = [i + 1 for i in np.argmax(preds, 1)]\n",
        "# y_test = np.argmax(y_test, 1)\n",
        "matrix = confusion_matrix(y_test, preds)"
      ],
      "metadata": {
        "id": "WwoHGN44YqK1"
      },
      "execution_count": null,
      "outputs": []
    },
    {
      "cell_type": "code",
      "source": [
        "import seaborn as sns\n",
        "sns.heatmap(matrix)"
      ],
      "metadata": {
        "colab": {
          "base_uri": "https://localhost:8080/",
          "height": 282
        },
        "id": "ruEpK5sNZPpg",
        "outputId": "34579aea-3e20-45d6-dfd4-3a81bed3225d"
      },
      "execution_count": null,
      "outputs": [
        {
          "output_type": "execute_result",
          "data": {
            "text/plain": [
              "<matplotlib.axes._subplots.AxesSubplot at 0x7f16dc1de390>"
            ]
          },
          "metadata": {},
          "execution_count": 156
        },
        {
          "output_type": "display_data",
          "data": {
            "text/plain": [
              "<Figure size 432x288 with 2 Axes>"
            ],
            "image/png": "[encoded data removed]"
          },
          "metadata": {
            "needs_background": "light"
          }
        }
      ]
    },
    {
      "cell_type": "code",
      "source": [
        "ndvi_test = '/content/drive/MyDrive/VarunaOutput/ndvi_test.parquet'\n",
        "testds = pd.read_parquet(ndvi_test)"
      ],
      "metadata": {
        "id": "EgRlScE_0UTt"
      },
      "execution_count": null,
      "outputs": []
    },
    {
      "cell_type": "code",
      "source": [
        "preds = model.predict(testds)"
      ],
      "metadata": {
        "id": "lBeKGHjtxhzR"
      },
      "execution_count": null,
      "outputs": []
    },
    {
      "cell_type": "code",
      "source": [
        "y_test.shape"
      ],
      "metadata": {
        "colab": {
          "base_uri": "https://localhost:8080/"
        },
        "id": "oAOSJadHwESY",
        "outputId": "d3195fc6-fdab-43bf-856f-124683aa861e"
      },
      "execution_count": null,
      "outputs": [
        {
          "output_type": "execute_result",
          "data": {
            "text/plain": [
              "(71065, 4)"
            ]
          },
          "metadata": {},
          "execution_count": 44
        }
      ]
    },
    {
      "cell_type": "markdown",
      "source": [
        "# Submissions "
      ],
      "metadata": {
        "id": "JXcsIo20BREW"
      }
    },
    {
      "cell_type": "code",
      "source": [
        "%%shell\n",
        "sudo add-apt-repository ppa:ubuntugis/ppa\n",
        "sudo apt-get update\n",
        "sudo apt-get install python-numpy gdal-bin libgdal-dev\n",
        "pip install rasterio geopandas fastparquet"
      ],
      "metadata": {
        "id": "r4GacLPTBpKH"
      },
      "execution_count": null,
      "outputs": []
    },
    {
      "cell_type": "code",
      "source": [
        "import os\n",
        "import glob\n",
        "from pathlib import Path\n",
        "from pprint import pprint\n",
        "import gc\n",
        "\n",
        "import rasterio as rio\n",
        "from rasterio.features import rasterize\n",
        "from tqdm.notebook import tqdm\n",
        "import numpy as np\n",
        "import pandas as pd\n",
        "from scipy import ndimage \n",
        "import geopandas as gpd\n",
        "from matplotlib import pyplot as plt\n",
        "from rasterio.plot import show, show_hist"
      ],
      "metadata": {
        "id": "jh2le4kcB5KK"
      },
      "execution_count": null,
      "outputs": []
    },
    {
      "cell_type": "code",
      "source": [
        "grid_aoi = gpd.read_file('/content/drive/MyDrive/VarunaHackathon2022/Grid_AOI/AOI.shp')\n",
        "test_aoi = gpd.read_file('/content/drive/MyDrive/VarunaHackathon2022/testing_area/testdata.shp')"
      ],
      "metadata": {
        "id": "yg31DE-iBgxl"
      },
      "execution_count": null,
      "outputs": []
    },
    {
      "cell_type": "code",
      "source": [
        "f2020 = '/content/drive/MyDrive/VarunaHackathon2022/sentinel-2-image/2020'\n",
        "f2021 = '/content/drive/MyDrive/VarunaHackathon2022/sentinel-2-image/2021'"
      ],
      "metadata": {
        "id": "bgejXKXgByIw"
      },
      "execution_count": null,
      "outputs": []
    },
    {
      "cell_type": "code",
      "source": [
        "reference_image_path = '/content/drive/MyDrive/VarunaHackathon2022/sentinel-2-image/2021/20210101/IMG_DATA/47PQS_20210101_B02.jp2'\n",
        "reference_image = rio.open(reference_image_path)\n",
        "reference_image.shape"
      ],
      "metadata": {
        "colab": {
          "base_uri": "https://localhost:8080/"
        },
        "id": "1QWoPWGAB0c7",
        "outputId": "1e47f0a7-5967-470f-95bc-33e96ee98bab"
      },
      "execution_count": null,
      "outputs": [
        {
          "output_type": "execute_result",
          "data": {
            "text/plain": [
              "(2051, 2051)"
            ]
          },
          "metadata": {},
          "execution_count": 84
        }
      ]
    },
    {
      "cell_type": "code",
      "source": [
        "profile = reference_image.profile\n",
        "label = test_aoi.to_crs(profile['crs'])\n",
        "test_image = rasterize(\n",
        "    shapes=[(row.geometry) for i, row in label.iterrows()],\n",
        "    out_shape=(profile['width'], profile['height']),\n",
        "    transform=profile['transform']\n",
        "    )\n",
        "classes, pixel_counts = np.unique(test_image, return_counts=True)\n",
        "print('Class pixel count:', dict(zip(classes[1:], pixel_counts[1:])))\n",
        "print('Total Non-zero pixels:', pixel_counts[1:].sum())\n",
        "plt.figure(figsize=(7,7))\n",
        "plt.imshow(test_image[750:1100, 1250:1600], cmap='Paired')"
      ],
      "metadata": {
        "colab": {
          "base_uri": "https://localhost:8080/",
          "height": 484
        },
        "id": "Hm7WgeROwh7u",
        "outputId": "49980f88-e872-421e-d137-c8d9df10be58"
      },
      "execution_count": null,
      "outputs": [
        {
          "output_type": "stream",
          "name": "stdout",
          "text": [
            "Class pixel count: {1: 100013}\n",
            "Total Non-zero pixels: 100013\n"
          ]
        },
        {
          "output_type": "execute_result",
          "data": {
            "text/plain": [
              "<matplotlib.image.AxesImage at 0x7f16cef6f9d0>"
            ]
          },
          "metadata": {},
          "execution_count": 92
        },
        {
          "output_type": "display_data",
          "data": {
            "text/plain": [
              "<Figure size 504x504 with 1 Axes>"
            ],
            "image/png": "[encoded data removed]"
          },
          "metadata": {
            "needs_background": "light"
          }
        }
      ]
    },
    {
      "cell_type": "code",
      "source": [
        "pixels = list()\n",
        "for i, row in label.iterrows():\n",
        "\n",
        "    img = rasterize([(row.geometry)],\n",
        "    out_shape=(profile['width'], profile['height']),\n",
        "    transform=profile['transform'])\n",
        "    _, pixel_counts = np.unique(img, return_counts=True)\n",
        "    pixels.append(pixel_counts[1])\n",
        "    # print(pixel_counts)\n",
        "    # plt.imshow(img)\n",
        "    # plt.show()\n"
      ],
      "metadata": {
        "id": "4diiv9-oB9b4"
      },
      "execution_count": null,
      "outputs": []
    },
    {
      "cell_type": "code",
      "source": [
        "def eleMax(items, start=0, end=None):\n",
        "    return max(items[start:end])"
      ],
      "metadata": {
        "id": "hdbFJWKgScVF"
      },
      "execution_count": null,
      "outputs": []
    },
    {
      "cell_type": "code",
      "source": [
        "test = [i + 1 for i in np.argmax(preds, 1)]"
      ],
      "metadata": {
        "id": "6GlpwfAjUvI6"
      },
      "execution_count": null,
      "outputs": []
    },
    {
      "cell_type": "code",
      "source": [
        "new = list()\n",
        "init = 0\n",
        "end = 0\n",
        "for i in range(0,len(pixels)):\n",
        "    end+=pixels[i]\n",
        "    new.append(eleMax(test,init, end)) \n",
        "    init+=pixels[i]"
      ],
      "metadata": {
        "id": "GhazRK0fU2px"
      },
      "execution_count": null,
      "outputs": []
    },
    {
      "cell_type": "code",
      "source": [
        "submission = pd.DataFrame()\n",
        "submission['crop_type'] = new\n",
        "submission.head()"
      ],
      "metadata": {
        "colab": {
          "base_uri": "https://localhost:8080/",
          "height": 206
        },
        "id": "W5PMtC8cRhYO",
        "outputId": "107bcc35-9182-4137-c40a-0d0a03bf5050"
      },
      "execution_count": null,
      "outputs": [
        {
          "output_type": "execute_result",
          "data": {
            "text/plain": [
              "   crop_type\n",
              "0          2\n",
              "1          2\n",
              "2          2\n",
              "3          2\n",
              "4          2"
            ],
            "text/html": [
              "\n",
              "  <div id=\"df-775a53b5-d03b-4da3-84f4-cfd878a7f42b\">\n",
              "    <div class=\"colab-df-container\">\n",
              "      <div>\n",
              "<style scoped>\n",
              "    .dataframe tbody tr th:only-of-type {\n",
              "        vertical-align: middle;\n",
              "    }\n",
              "\n",
              "    .dataframe tbody tr th {\n",
              "        vertical-align: top;\n",
              "    }\n",
              "\n",
              "    .dataframe thead th {\n",
              "        text-align: right;\n",
              "    }\n",
              "</style>\n",
              "<table border=\"1\" class=\"dataframe\">\n",
              "  <thead>\n",
              "    <tr style=\"text-align: right;\">\n",
              "      <th></th>\n",
              "      <th>crop_type</th>\n",
              "    </tr>\n",
              "  </thead>\n",
              "  <tbody>\n",
              "    <tr>\n",
              "      <th>0</th>\n",
              "      <td>2</td>\n",
              "    </tr>\n",
              "    <tr>\n",
              "      <th>1</th>\n",
              "      <td>2</td>\n",
              "    </tr>\n",
              "    <tr>\n",
              "      <th>2</th>\n",
              "      <td>2</td>\n",
              "    </tr>\n",
              "    <tr>\n",
              "      <th>3</th>\n",
              "      <td>2</td>\n",
              "    </tr>\n",
              "    <tr>\n",
              "      <th>4</th>\n",
              "      <td>2</td>\n",
              "    </tr>\n",
              "  </tbody>\n",
              "</table>\n",
              "</div>\n",
              "      <button class=\"colab-df-convert\" onclick=\"convertToInteractive('df-775a53b5-d03b-4da3-84f4-cfd878a7f42b')\"\n",
              "              title=\"Convert this dataframe to an interactive table.\"\n",
              "              style=\"display:none;\">\n",
              "        \n",
              "  <svg xmlns=\"http://www.w3.org/2000/svg\" height=\"24px\"viewBox=\"0 0 24 24\"\n",
              "       width=\"24px\">\n",
              "    <path d=\"M0 0h24v24H0V0z\" fill=\"none\"/>\n",
              "    <path d=\"M18.56 5.44l.94 2.06.94-2.06 2.06-.94-2.06-.94-.94-2.06-.94 2.06-2.06.94zm-11 1L8.5 8.5l.94-2.06 2.06-.94-2.06-.94L8.5 2.5l-.94 2.06-2.06.94zm10 10l.94 2.06.94-2.06 2.06-.94-2.06-.94-.94-2.06-.94 2.06-2.06.94z\"/><path d=\"M17.41 7.96l-1.37-1.37c-.4-.4-.92-.59-1.43-.59-.52 0-1.04.2-1.43.59L10.3 9.45l-7.72 7.72c-.78.78-.78 2.05 0 2.83L4 21.41c.39.39.9.59 1.41.59.51 0 1.02-.2 1.41-.59l7.78-7.78 2.81-2.81c.8-.78.8-2.07 0-2.86zM5.41 20L4 18.59l7.72-7.72 1.47 1.35L5.41 20z\"/>\n",
              "  </svg>\n",
              "      </button>\n",
              "      \n",
              "  <style>\n",
              "    .colab-df-container {\n",
              "      display:flex;\n",
              "      flex-wrap:wrap;\n",
              "      gap: 12px;\n",
              "    }\n",
              "\n",
              "    .colab-df-convert {\n",
              "      background-color: #E8F0FE;\n",
              "      border: none;\n",
              "      border-radius: 50%;\n",
              "      cursor: pointer;\n",
              "      display: none;\n",
              "      fill: #1967D2;\n",
              "      height: 32px;\n",
              "      padding: 0 0 0 0;\n",
              "      width: 32px;\n",
              "    }\n",
              "\n",
              "    .colab-df-convert:hover {\n",
              "      background-color: #E2EBFA;\n",
              "      box-shadow: 0px 1px 2px rgba(60, 64, 67, 0.3), 0px 1px 3px 1px rgba(60, 64, 67, 0.15);\n",
              "      fill: #174EA6;\n",
              "    }\n",
              "\n",
              "    [theme=dark] .colab-df-convert {\n",
              "      background-color: #3B4455;\n",
              "      fill: #D2E3FC;\n",
              "    }\n",
              "\n",
              "    [theme=dark] .colab-df-convert:hover {\n",
              "      background-color: #434B5C;\n",
              "      box-shadow: 0px 1px 3px 1px rgba(0, 0, 0, 0.15);\n",
              "      filter: drop-shadow(0px 1px 2px rgba(0, 0, 0, 0.3));\n",
              "      fill: #FFFFFF;\n",
              "    }\n",
              "  </style>\n",
              "\n",
              "      <script>\n",
              "        const buttonEl =\n",
              "          document.querySelector('#df-775a53b5-d03b-4da3-84f4-cfd878a7f42b button.colab-df-convert');\n",
              "        buttonEl.style.display =\n",
              "          google.colab.kernel.accessAllowed ? 'block' : 'none';\n",
              "\n",
              "        async function convertToInteractive(key) {\n",
              "          const element = document.querySelector('#df-775a53b5-d03b-4da3-84f4-cfd878a7f42b');\n",
              "          const dataTable =\n",
              "            await google.colab.kernel.invokeFunction('convertToInteractive',\n",
              "                                                     [key], {});\n",
              "          if (!dataTable) return;\n",
              "\n",
              "          const docLinkHtml = 'Like what you see? Visit the ' +\n",
              "            '<a target=\"_blank\" href=https://colab.research.google.com/notebooks/data_table.ipynb>data table notebook</a>'\n",
              "            + ' to learn more about interactive tables.';\n",
              "          element.innerHTML = '';\n",
              "          dataTable['output_type'] = 'display_data';\n",
              "          await google.colab.output.renderOutput(dataTable, element);\n",
              "          const docLink = document.createElement('div');\n",
              "          docLink.innerHTML = docLinkHtml;\n",
              "          element.appendChild(docLink);\n",
              "        }\n",
              "      </script>\n",
              "    </div>\n",
              "  </div>\n",
              "  "
            ]
          },
          "metadata": {},
          "execution_count": 149
        }
      ]
    },
    {
      "cell_type": "code",
      "source": [
        "submission.to_csv('submissions_test.csv')"
      ],
      "metadata": {
        "id": "FJ_ejKL_WgOq"
      },
      "execution_count": null,
      "outputs": []
    },
    {
      "cell_type": "code",
      "source": [
        ""
      ],
      "metadata": {
        "id": "hhnWnADYXzq3"
      },
      "execution_count": null,
      "outputs": []
    }
  ]
}